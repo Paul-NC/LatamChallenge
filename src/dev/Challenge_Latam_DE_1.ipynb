{
 "cells": [
  {
   "cell_type": "code",
   "execution_count": 0,
   "metadata": {
    "application/vnd.databricks.v1+cell": {
     "cellMetadata": {
      "byteLimit": 2048000,
      "rowLimit": 10000
     },
     "inputWidgets": {},
     "nuid": "1612c9fc-6227-4fae-826d-9398c3d70719",
     "showTitle": false,
     "title": ""
    }
   },
   "outputs": [],
   "source": [
    "import pyspark.sql.functions as f"
   ]
  },
  {
   "cell_type": "code",
   "execution_count": 0,
   "metadata": {
    "application/vnd.databricks.v1+cell": {
     "cellMetadata": {},
     "inputWidgets": {},
     "nuid": "4a1fd22d-6e6e-41e0-a0fd-31e3396fa532",
     "showTitle": false,
     "title": ""
    }
   },
   "outputs": [],
   "source": [
    "## CHALLENGE 1"
   ]
  },
  {
   "cell_type": "code",
   "execution_count": 0,
   "metadata": {
    "application/vnd.databricks.v1+cell": {
     "cellMetadata": {
      "byteLimit": 2048000,
      "rowLimit": 10000
     },
     "inputWidgets": {},
     "nuid": "37be6800-70e0-4aee-a294-c3d19634ce69",
     "showTitle": false,
     "title": ""
    }
   },
   "outputs": [],
   "source": [
    "#Lectura de archivo JSON\n",
    "dfTweets = spark.read.format(\"json\").option(\"multiLine\", False).load(\"dbfs:///FileStore/_latam/farmers_protest_tweets_2021_2_4.json\")"
   ]
  },
  {
   "cell_type": "code",
   "execution_count": 0,
   "metadata": {
    "application/vnd.databricks.v1+cell": {
     "cellMetadata": {
      "byteLimit": 2048000,
      "rowLimit": 10000
     },
     "inputWidgets": {},
     "nuid": "c85200ce-e20b-4568-90d2-744cd1ff026f",
     "showTitle": false,
     "title": ""
    }
   },
   "outputs": [
    {
     "output_type": "stream",
     "name": "stdout",
     "output_type": "stream",
     "text": [
      "+--------------------------------------------------------------------------------------------------------------------------------------------------------------------------------------------------------------------------------------------------------------------------------------------------------------------+-------------------+-------------------------+-------------------+----+---------+---------------------------------------------------------------------------------------------------------------------------------------------------------------------------------------------------------------------------------------------------------------------------------------------------------------------------------------------------------------------------------------------------------------------------------------------------------------------------------------------------------+------------------------------------------------------------------------------------------------------------------------------------------------------------------------------------------------------------------------------------------------------------------------------------------------------------------------------------------------------------------------------+----------------------------------------------------------------+----------+------------------------------------------------------------------------------------------------------------------------------------------------------------------------------------------------------------------------------------------------------------------------------------------------------------------------------------------------------------------------------------------------------------------------------------------------------------------------------------------------------------------------------------------------------------------------------------------------------------------------------------------------------------------------------------------------------------------------------------------------------------------------------------------------------------------------------------------------------------------------------------------------------------------------------------------------------------------------------------------------------------------------------------------------------------------------------------------------------------------------------------------------------------------------------------------------------------------------------------------------------------------------------------------------------------------------------------------------------------------------------------------------------------------------------------------------------------------------------------------------------------------------------------------------------------------------------------------------------------------------------------------------------------------------------------------------------------------------------------------------------------------------------------------------------------------------------------------------------------------------------------------------------------------------------------------------------------------------------------------------------------------------------------------------------------------------------------------------------------------------------------------------------------------------------------------------------------------------------------------------------------------------------------------------------------------------------------------------------------------------------------------------------------------------------------------------------------------------------------------------------------------------------------------------------------------------------------------------------------------------------------------------------------------------------------------------------------------------------------------------------------------------------------------------------------------------------------------------------------------------------------------------------------------------------------------------------------------------------------------------------------------------------------------------------------------------------------------------------------------------------------------------------------------------------------------------------------------------------------------------------------------------------------------------------------------------------------------------------------------------------------------------------------------------------------------------------+--------------------------------------------------------------------------------------------------------------------------------------------------------------------------------------------------------------------------------------------------------------------------------------------------------------------+----------+------------+--------------+------------------------------------------------------------------------------------+-------------------+--------------------------------------------+-------------------------+--------------------------------------------------------------+--------------------------------------------------------------------------------------------------------------------------------------------------------------------------------------------------------------------------------------------------------------------------------------------------------------------------------------------------------------------------------------------------------------------------------------------------------------------------------------------------------------------------------------------------------------------------------------------------------------------------------------------------------------------------------------------------------+\n|content                                                                                                                                                                                                                                                                                                             |conversationId     |date                     |id                 |lang|likeCount|media                                                                                                                                                                                                                                                                                                                                                                                                                                                                                                    |mentionedUsers                                                                                                                                                                                                                                                                                                                                                                |outlinks                                                        |quoteCount|quotedTweet                                                                                                                                                                                                                                                                                                                                                                                                                                                                                                                                                                                                                                                                                                                                                                                                                                                                                                                                                                                                                                                                                                                                                                                                                                                                                                                                                                                                                                                                                                                                                                                                                                                                                                                                                                                                                                                                                                                                                                                                                                                                                                                                                                                                                                                                                                                                                                                                                                                                                                                                                                                                                                                                                                                                                                                                                                                                                                                                                                                                                                                                                                                                                                                                                                                                                                                                                                                                                                           |renderedContent                                                                                                                                                                                                                                                                                                     |replyCount|retweetCount|retweetedTweet|source                                                                              |sourceLabel        |sourceUrl                                   |tcooutlinks              |url                                                           |user                                                                                                                                                                                                                                                                                                                                                                                                                                                                                                                                                                                                                                                                                                    |\n+--------------------------------------------------------------------------------------------------------------------------------------------------------------------------------------------------------------------------------------------------------------------------------------------------------------------+-------------------+-------------------------+-------------------+----+---------+---------------------------------------------------------------------------------------------------------------------------------------------------------------------------------------------------------------------------------------------------------------------------------------------------------------------------------------------------------------------------------------------------------------------------------------------------------------------------------------------------------+------------------------------------------------------------------------------------------------------------------------------------------------------------------------------------------------------------------------------------------------------------------------------------------------------------------------------------------------------------------------------+----------------------------------------------------------------+----------+------------------------------------------------------------------------------------------------------------------------------------------------------------------------------------------------------------------------------------------------------------------------------------------------------------------------------------------------------------------------------------------------------------------------------------------------------------------------------------------------------------------------------------------------------------------------------------------------------------------------------------------------------------------------------------------------------------------------------------------------------------------------------------------------------------------------------------------------------------------------------------------------------------------------------------------------------------------------------------------------------------------------------------------------------------------------------------------------------------------------------------------------------------------------------------------------------------------------------------------------------------------------------------------------------------------------------------------------------------------------------------------------------------------------------------------------------------------------------------------------------------------------------------------------------------------------------------------------------------------------------------------------------------------------------------------------------------------------------------------------------------------------------------------------------------------------------------------------------------------------------------------------------------------------------------------------------------------------------------------------------------------------------------------------------------------------------------------------------------------------------------------------------------------------------------------------------------------------------------------------------------------------------------------------------------------------------------------------------------------------------------------------------------------------------------------------------------------------------------------------------------------------------------------------------------------------------------------------------------------------------------------------------------------------------------------------------------------------------------------------------------------------------------------------------------------------------------------------------------------------------------------------------------------------------------------------------------------------------------------------------------------------------------------------------------------------------------------------------------------------------------------------------------------------------------------------------------------------------------------------------------------------------------------------------------------------------------------------------------------------------------------------------------------------------------------------------+--------------------------------------------------------------------------------------------------------------------------------------------------------------------------------------------------------------------------------------------------------------------------------------------------------------------+----------+------------+--------------+------------------------------------------------------------------------------------+-------------------+--------------------------------------------+-------------------------+--------------------------------------------------------------+--------------------------------------------------------------------------------------------------------------------------------------------------------------------------------------------------------------------------------------------------------------------------------------------------------------------------------------------------------------------------------------------------------------------------------------------------------------------------------------------------------------------------------------------------------------------------------------------------------------------------------------------------------------------------------------------------------+\n|The world progresses while the Indian police and Govt are still trying to take India back to the horrific past through its tyranny. \\n\\n@narendramodi @DelhiPolice Shame on you. \\n\\n#ModiDontSellFarmers \\n#FarmersProtest \\n#FreeNodeepKaur https://t.co/es3kn0IQAF                                               |1364506249291784198|2021-02-24T09:23:35+00:00|1364506249291784198|en  |0        |null                                                                                                                                                                                                                                                                                                                                                                                                                                                                                                     |[{null, null, null, Narendra Modi, null, null, null, 18839785, null, null, null, null, null, null, null, null, null, null, https://twitter.com/narendramodi, narendramodi, null}, {null, null, null, #DilKiPolice Delhi Police, null, null, null, 1850705408, null, null, null, null, null, null, null, null, null, null, https://twitter.com/DelhiPolice, DelhiPolice, null}]|[https://twitter.com/ravisinghka/status/1364150844757860352]    |0         |{This is what the indian police are good at, beating &amp; raping women ! @police_haryana @DelhiPolice \\n\\nhttps://t.co/mj1qzF7nGh, 1364150844757860352, 2021-02-23T09:51:20+00:00, 1364150844757860352, en, 1939, null, [{null, null, null, Haryana Police, null, null, null, 887564756629966848, null, null, null, null, null, null, null, null, null, null, https://twitter.com/police_haryana, police_haryana, null}, {null, null, null, #DilKiPolice Delhi Police, null, null, null, 1850705408, null, null, null, null, null, null, null, null, null, null, https://twitter.com/DelhiPolice, DelhiPolice, null}], [https://www.google.co.uk/amp/s/m.timesofindia.com/city/chandigarh/was-brutally-thrashed-in-thana-nodeep-kaur-tells-punjab-and-haryana-high-court/amp_articleshow/81164092.cms], 59, null, This is what the indian police are good at, beating &amp; raping women ! @police_haryana @DelhiPolice \\n\\ngoogle.co.uk/amp/s/m.timeso…, 66, 744, null, <a href=\"http://twitter.com/download/iphone\" rel=\"nofollow\">Twitter for iPhone</a>, Twitter for iPhone, http://twitter.com/download/iphone, [https://t.co/mj1qzF7nGh], https://twitter.com/RaviSinghKA/status/1364150844757860352, {2014-02-16T23:38:54+00:00, Founder/CEO of Khalsa Aid, Sikh,philanthropist, 20 Years of coordinating aid,humanitarian & passionate about human rights.All views my own:Inc working in Iraq, [], ravinder singh, 30134, 227423, 4042, 2347762888, https://t.co/cgdi8BLkK2, http://www.khalsaaid.org, 212, Slough, England , 4944, https://pbs.twimg.com/profile_banners/2347762888/1591307489, https://pbs.twimg.com/profile_images/686526444642643968/bnCPdE7N_normal.jpg, false, Founder/CEO of Khalsa Aid, Sikh,philanthropist, 20 Years of coordinating aid,humanitarian & passionate about human rights.All views my own:Inc working in Iraq, 38683, https://twitter.com/RaviSinghKA, RaviSinghKA, false}}                                                                                                                                                                                                                                                                                                                                                                                                                                                                                                                                                                                                                                                                                                                                                                                                                                                                                                                                                                                                                                                                                                                                                                                                                                                                                                                                                                                                                                                                                                                           |The world progresses while the Indian police and Govt are still trying to take India back to the horrific past through its tyranny. \\n\\n@narendramodi @DelhiPolice Shame on you. \\n\\n#ModiDontSellFarmers \\n#FarmersProtest \\n#FreeNodeepKaur twitter.com/ravisinghka/st…                                           |0         |0           |null          |<a href=\"http://twitter.com/download/iphone\" rel=\"nofollow\">Twitter for iPhone</a>  |Twitter for iPhone |http://twitter.com/download/iphone          |[https://t.co/es3kn0IQAF]|https://twitter.com/ArjunSinghPanam/status/1364506249291784198|{2009-06-06T07:50:57+00:00, Global Citizen, Actor, Director: Sky is the roof above my head, the world is the road I travel, love is my food & mother earth is my bed. Roy in @CosmosMovie, [], Arjun Singh Panam, 4269, 603, 311, 45091142, https://t.co/3uaoV3gCt3, https://www.cosmosmovieofficial.com, 23, , 1211, https://pbs.twimg.com/profile_banners/45091142/1612601766, https://pbs.twimg.com/profile_images/1215541746492461056/3De61YoQ_normal.jpg, false, Global Citizen, Actor, Director: Sky is the roof above my head, the world is the road I travel, love is my food & mother earth is my bed. Roy in @CosmosMovie, 17534, https://twitter.com/ArjunSinghPanam, ArjunSinghPanam, false}|\n|#FarmersProtest \\n#ModiIgnoringFarmersDeaths \\n#ModiDontSellFarmers \\n@Kisanektamorcha \\nFarmers constantly distroying crops throughout India. \\nReally, it's hearts breaking...we care about our crops like our children. And govt. agriculture minister is laughing on us🚜🌾WE WILL WIN💪 https://t.co/kLspngG9xE|1364506237451313155|2021-02-24T09:23:32+00:00|1364506237451313155|en  |0        |[{139.934, null, null, https://pbs.twimg.com/ext_tw_video_thumb/1364506005531361280/pu/img/TlV5WZdUsaU2Qpmy.jpg, video, [{632000, video/mp4, https://video.twimg.com/ext_tw_video/1364506005531361280/pu/vid/320x580/2EhqHfKscfd1GQnM.mp4?tag=10}, {null, application/x-mpegURL, https://video.twimg.com/ext_tw_video/1364506005531361280/pu/pl/xKomqeZ_R13sSAq0.m3u8?tag=10}]}]                                                                                                                         |[{null, null, null, Kisan Ekta Morcha, null, null, null, 1338536920066879488, null, null, null, null, null, null, null, null, null, null, https://twitter.com/Kisanektamorcha, Kisanektamorcha, null}]                                                                                                                                                                        |[]                                                              |0         |null                        \n\n*** WARNING: max output size exceeded, skipping output. ***\n\n                                                        |@akshaykumar Hi can you tell your boss #ModiDontSellFarmers thanks #FarmersProtest                                                                                                                                                                                                                                  |0         |0           |null          |<a href=\"http://twitter.com/download/android\" rel=\"nofollow\">Twitter for Android</a>|Twitter for Android|http://twitter.com/download/android         |[]                       |https://twitter.com/KaurDosanjh1979/status/1364505676375076867|{2012-03-27T23:14:32+00:00, , [], Red 💚, 18962, 427, 1005, 538638801, null, null, 0, , 30, https://pbs.twimg.com/profile_banners/538638801/1612090388, https://pbs.twimg.com/profile_images/1355820232057749507/Y6TwIgbO_normal.jpg, false, , 29803, https://twitter.com/KaurDosanjh1979, KaurDosanjh1979, false}                                                                                                                                                                                                                                                                                                                                                                                      |\n|#ModiDontSellFarmers \\n#farmersprotest https://t.co/rBlqRpnixj                                                                                                                                                                                                                                                      |1364505591641735170|2021-02-24T09:20:58+00:00|1364505591641735170|und |0        |null                                                                                                                                                                                                                                                                                                                                                                                                                                                                                                     |null                                                                                                                                                                                                                                                                                                                                                                          |[https://twitter.com/kisanektamorcha/status/1364387116122185729]|0         |{After railways, airports the Modi govt. is keen to privatise the public sector units one after the other.\\nIts time to save the farmers from being sold to corporate houses . \\n\\n#ModiDontSellFarmers https://t.co/oBZmdFWADw, 1364387116122185729, 2021-02-24T01:30:12+00:00, 1364387116122185729, en, 4982, [{null, https://pbs.twimg.com/media/Eu9G2I3VoAQ0ZZy?format=jpg&name=large, https://pbs.twimg.com/media/Eu9G2I3VoAQ0ZZy?format=jpg&name=small, null, photo, null}], null, [], 431, null, After railways, airports the Modi govt. is keen to privatise the public sector units one after the other.\\nIts time to save the farmers from being sold to corporate houses . \\n\\n#ModiDontSellFarmers https://t.co/oBZmdFWADw, 198, 3096, null, <a href=\"http://twitter.com/download/iphone\" rel=\"nofollow\">Twitter for iPhone</a>, Twitter for iPhone, http://twitter.com/download/iphone, [], https://twitter.com/Kisanektamorcha/status/1364387116122185729, {2020-12-14T17:30:57+00:00, This is the Official Twitter Account to Get All the Exclusive Updates About Kisan Protest. \\n\\n#KisanEktaMorcha #DigitalKisan #DigitalKisanMorcha, [], Kisan Ekta Morcha, 8, 272677, 2, 1338536920066879488, https://t.co/HbsdHR3ryg, https://www.youtube.com/channel/UC4mGFTV86AR8VeJmusu1QWQ, 98, Punjab, India, 241, https://pbs.twimg.com/profile_banners/1338536920066879488/1608232745, https://pbs.twimg.com/profile_images/1339227625516986369/RfALLMTi_normal.jpg, false, This is the Official Twitter Account to Get All the Exclusive Updates About Kisan Protest. \\n\\n#KisanEktaMorcha #DigitalKisan #DigitalKisanMorcha, 316, https://twitter.com/Kisanektamorcha, Kisanektamorcha, false}}                                                                                                                                                                                                                                                                                                                                                                                                                                                                                                                                                                                                                                                                                                                                                                                                                                                                                                                                                                                                                                                                                                                                                                                                                                                                                                                                                                                                                                                                                                                                                                                                                                                                                                                                         |#ModiDontSellFarmers \\n#farmersprotest twitter.com/kisanektamorch…                                                                                                                                                                                                                                                  |0         |0           |null          |<a href=\"http://twitter.com/download/iphone\" rel=\"nofollow\">Twitter for iPhone</a>  |Twitter for iPhone |http://twitter.com/download/iphone          |[https://t.co/rBlqRpnixj]|https://twitter.com/ArjunSinghPanam/status/1364505591641735170|{2009-06-06T07:50:57+00:00, Global Citizen, Actor, Director: Sky is the roof above my head, the world is the road I travel, love is my food & mother earth is my bed. Roy in @CosmosMovie, [], Arjun Singh Panam, 4269, 603, 311, 45091142, https://t.co/3uaoV3gCt3, https://www.cosmosmovieofficial.com, 23, , 1211, https://pbs.twimg.com/profile_banners/45091142/1612601766, https://pbs.twimg.com/profile_images/1215541746492461056/3De61YoQ_normal.jpg, false, Global Citizen, Actor, Director: Sky is the roof above my head, the world is the road I travel, love is my food & mother earth is my bed. Roy in @CosmosMovie, 17534, https://twitter.com/ArjunSinghPanam, ArjunSinghPanam, false}|\n|@taapsee watch full video #farmersprotest #NoFarmersNoFood \\nhttps://t.co/wBPNdJdB0n https://t.co/Ijtzk3Hv9C                                                                                                                                                                                                        |1364427910053003270|2021-02-24T09:20:39+00:00|1364505511073300481|en  |0        |[{46.375, null, null, https://pbs.twimg.com/ext_tw_video_thumb/1364505469893632008/pu/img/hORodtnsK52M1Y1s.jpg, video, [{632000, video/mp4, https://video.twimg.com/ext_tw_video/1364505469893632008/pu/vid/320x566/Ha4a3Jd4AqU0gHS8.mp4?tag=10}, {null, application/x-mpegURL, https://video.twimg.com/ext_tw_video/1364505469893632008/pu/pl/Icus70VuP_0K864l.m3u8?tag=10}, {832000, video/mp4, https://video.twimg.com/ext_tw_video/1364505469893632008/pu/vid/406x720/1eMoX7PgDSGo3l93.mp4?tag=10}]}]|[{null, null, null, taapsee pannu, null, null, null, 132992534, null, null, null, null, null, null, null, null, null, null, https://twitter.com/taapsee, taapsee, null}]                                                                                                                                                                                                      |[https://youtu.be/-bUKumwq-J8]                                  |0         |null                                                                                                                                                                                                                                                                                                                                                                                                                                                                                                                                                                                                                                                                                                                                                                                                                                                                                                                                                                                                                                                                                                                                                                                                                                                                                                                                                                                                                                                                                                                                                                                                                                                                                                                                                                                                                                                                                                                                                                                                                                                                                                                                                                                                                                                                                                                                                                                                                                                                                                                                                                                                                                                                                                                                                                                                                                                                                                                                                                                                                                                                                                                                                                                                                                                                                                                                                                                                                                                  |@taapsee watch full video #farmersprotest #NoFarmersNoFood \\nyoutu.be/-bUKumwq-J8 https://t.co/Ijtzk3Hv9C                                                                                                                                                                                                           |0         |0           |null          |<a href=\"https://mobile.twitter.com\" rel=\"nofollow\">Twitter Web App</a>             |Twitter Web App    |https://mobile.twitter.com                  |[https://t.co/wBPNdJdB0n]|https://twitter.com/anmoldhaliwal/status/1364505511073300481  |{2010-04-28T03:12:18+00:00, coming soon, [], Anmol, 77, 51, 27, 137908912, null, null, 0, Brampton, On, 12, null, https://pbs.twimg.com/profile_images/1564975143/DSCN0990_-_Copy_-_Copy_normal.JPG, false, coming soon, 228, https://twitter.com/anmoldhaliwal, anmoldhaliwal, false}                                                                                                                                                                                                                                                                                                                                                                                                                  |\n|#FarmersProtest https://t.co/8OeC86VPfB                                                                                                                                                                                                                                                                             |1364505462419447810|2021-02-24T09:20:28+00:00|1364505462419447810|und |0        |null                                                                                                                                                                                                                                                                                                                                                                                                                                                                                                     |null                                                                                                                                                                                                                                                                                                                                                                          |[https://twitter.com/GurdeepPandher/status/1364264622048608256] |0         |{Dear folks in London (UK), I will be on the British television network ITV @ITV, during the breakfast show hosted by Lorraine @reallorraine at 9 AM (UK time) on Wednesday, Feb 24., 1364264622048608256, 2021-02-23T17:23:27+00:00, 1364264622048608256, en, 902, null, [{null, null, null, ITV, null, null, null, 86925202, null, null, null, null, null, null, null, null, null, null, https://twitter.com/ITV, ITV, null}, {null, null, null, Lorraine, null, null, null, 90221278, null, null, null, null, null, null, null, null, null, null, https://twitter.com/reallorraine, reallorraine, null}], [], 18, null, Dear folks in London (UK), I will be on the British television network ITV @ITV, during the breakfast show hosted by Lorraine @reallorraine at 9 AM (UK time) on Wednesday, Feb 24., 45, 68, null, <a href=\"https://mobile.twitter.com\" rel=\"nofollow\">Twitter Web App</a>, Twitter Web App, https://mobile.twitter.com, [], https://twitter.com/GurdeepPandher/status/1364264622048608256, {2013-01-05T19:04:55+00:00, #ISupportFarmers | Canadian dancer/teacher—building cross-cultural bridges, inclusivity & spreading optimism to Canada's coast to coast | YouTube: bit.ly/U-Tu, [{[147, 170], https://t.co/Q5tjNzQlhE, bit.ly/U-Tu, http://bit.ly/U-Tu}], Gurdeep Pandher of Yukon, 4961, 61291, 2845, 1063742394, https://t.co/GvlOtkjvzm, http://Gurdeep.ca, 173, Yukon, Canada, 675, https://pbs.twimg.com/profile_banners/1063742394/1601773150, https://pbs.twimg.com/profile_images/1227426509532598272/92blea-9_normal.jpg, false, #ISupportFarmers | Canadian dancer/teacher—building cross-cultural bridges, inclusivity & spreading optimism to Canada's coast to coast | YouTube: https://t.co/Q5tjNzQlhE, 5429, https://twitter.com/GurdeepPandher, GurdeepPandher, true}}                                                                                                                                                                                                                                                                                                                                                                                                                                                                                                                                                                                                                                                                                                                                                                                                                                                                                                                                                                                                                                                                                                                                                                                                                                                                                                                                                                                                                                                                                                                                                                                                                             |#FarmersProtest twitter.com/GurdeepPandher…                                                                                                                                                                                                                                                                         |0         |0           |null          |<a href=\"https://mobile.twitter.com\" rel=\"nofollow\">Twitter Web App</a>             |Twitter Web App    |https://mobile.twitter.com                  |[https://t.co/8OeC86VPfB]|https://twitter.com/BitnamSingh/status/1364505462419447810    |{2009-05-25T17:16:20+00:00, Activist Against Fascism, [], Bitnam Singh Khalsa, 721, 114, 593, 42444028, null, null, 0, UK, 25, null, https://pbs.twimg.com/profile_images/1214115913626206208/y6W1Bj2x_normal.jpg, false, Activist Against Fascism, 714, https://twitter.com/BitnamSingh, BitnamSingh, false}                                                                                                                                                                                                                                                                                                                                                                                           |\n+--------------------------------------------------------------------------------------------------------------------------------------------------------------------------------------------------------------------------------------------------------------------------------------------------------------------+-------------------+-------------------------+-------------------+----+---------+---------------------------------------------------------------------------------------------------------------------------------------------------------------------------------------------------------------------------------------------------------------------------------------------------------------------------------------------------------------------------------------------------------------------------------------------------------------------------------------------------------+------------------------------------------------------------------------------------------------------------------------------------------------------------------------------------------------------------------------------------------------------------------------------------------------------------------------------------------------------------------------------+----------------------------------------------------------------+----------+------------------------------------------------------------------------------------------------------------------------------------------------------------------------------------------------------------------------------------------------------------------------------------------------------------------------------------------------------------------------------------------------------------------------------------------------------------------------------------------------------------------------------------------------------------------------------------------------------------------------------------------------------------------------------------------------------------------------------------------------------------------------------------------------------------------------------------------------------------------------------------------------------------------------------------------------------------------------------------------------------------------------------------------------------------------------------------------------------------------------------------------------------------------------------------------------------------------------------------------------------------------------------------------------------------------------------------------------------------------------------------------------------------------------------------------------------------------------------------------------------------------------------------------------------------------------------------------------------------------------------------------------------------------------------------------------------------------------------------------------------------------------------------------------------------------------------------------------------------------------------------------------------------------------------------------------------------------------------------------------------------------------------------------------------------------------------------------------------------------------------------------------------------------------------------------------------------------------------------------------------------------------------------------------------------------------------------------------------------------------------------------------------------------------------------------------------------------------------------------------------------------------------------------------------------------------------------------------------------------------------------------------------------------------------------------------------------------------------------------------------------------------------------------------------------------------------------------------------------------------------------------------------------------------------------------------------------------------------------------------------------------------------------------------------------------------------------------------------------------------------------------------------------------------------------------------------------------------------------------------------------------------------------------------------------------------------------------------------------------------------------------------------------------------------------------------------+--------------------------------------------------------------------------------------------------------------------------------------------------------------------------------------------------------------------------------------------------------------------------------------------------------------------+----------+------------+--------------+------------------------------------------------------------------------------------+-------------------+--------------------------------------------+-------------------------+--------------------------------------------------------------+--------------------------------------------------------------------------------------------------------------------------------------------------------------------------------------------------------------------------------------------------------------------------------------------------------------------------------------------------------------------------------------------------------------------------------------------------------------------------------------------------------------------------------------------------------------------------------------------------------------------------------------------------------------------------------------------------------+\nonly showing top 20 rows\n\n"
     ]
    }
   ],
   "source": [
    "dfTweets.show(20, False)"
   ]
  },
  {
   "cell_type": "code",
   "execution_count": 0,
   "metadata": {
    "application/vnd.databricks.v1+cell": {
     "cellMetadata": {
      "byteLimit": 2048000,
      "rowLimit": 10000
     },
     "inputWidgets": {},
     "nuid": "f960d36c-24cd-406d-a221-6b7c81a0e1fa",
     "showTitle": false,
     "title": ""
    }
   },
   "outputs": [
    {
     "output_type": "stream",
     "name": "stdout",
     "output_type": "stream",
     "text": [
      "root\n |-- content: string (nullable = true)\n |-- conversationId: long (nullable = true)\n |-- date: string (nullable = true)\n |-- id: long (nullable = true)\n |-- lang: string (nullable = true)\n |-- likeCount: long (nullable = true)\n |-- media: array (nullable = true)\n |    |-- element: struct (containsNull = true)\n |    |    |-- duration: double (nullable = true)\n |    |    |-- fullUrl: string (nullable = true)\n |    |    |-- previewUrl: string (nullable = true)\n |    |    |-- thumbnailUrl: string (nullable = true)\n |    |    |-- type: string (nullable = true)\n |    |    |-- variants: array (nullable = true)\n |    |    |    |-- element: struct (containsNull = true)\n |    |    |    |    |-- bitrate: long (nullable = true)\n |    |    |    |    |-- contentType: string (nullable = true)\n |    |    |    |    |-- url: string (nullable = true)\n |-- mentionedUsers: array (nullable = true)\n |    |-- element: struct (containsNull = true)\n |    |    |-- created: string (nullable = true)\n |    |    |-- description: string (nullable = true)\n |    |    |-- descriptionUrls: string (nullable = true)\n |    |    |-- displayname: string (nullable = true)\n |    |    |-- favouritesCount: string (nullable = true)\n |    |    |-- followersCount: string (nullable = true)\n |    |    |-- friendsCount: string (nullable = true)\n |    |    |-- id: long (nullable = true)\n |    |    |-- linkTcourl: string (nullable = true)\n |    |    |-- linkUrl: string (nullable = true)\n |    |    |-- listedCount: string (nullable = true)\n |    |    |-- location: string (nullable = true)\n |    |    |-- mediaCount: string (nullable = true)\n |    |    |-- profileBannerUrl: string (nullable = true)\n |    |    |-- profileImageUrl: string (nullable = true)\n |    |    |-- protected: string (nullable = true)\n |    |    |-- rawDescription: string (nullable = true)\n |    |    |-- statusesCount: string (nullable = true)\n |    |    |-- url: string (nullable = true)\n |    |    |-- username: string (nullable = true)\n |    |    |-- verified: string (nullable = true)\n |-- outlinks: array (nullable = true)\n |    |-- element: string (containsNull = true)\n |-- quoteCount: long (nullable = true)\n |-- quotedTweet: struct (nullable = true)\n |    |-- content: string (nullable = true)\n |    |-- conversationId: long (nullable = true)\n |    |-- date: string (nullable = true)\n |    |-- id: long (nullable = true)\n |    |-- lang: string (nullable = true)\n |    |-- likeCount: long (nullable = true)\n |    |-- media: array (nullable = true)\n |    |    |-- element: struct (containsNull = true)\n |    |    |    |-- duration: double (nullable = true)\n |    |    |    |-- fullUrl: string (nullable = true)\n |    |    |    |-- previewUrl: string (nullable = true)\n |    |    |    |-- thumbnailUrl: string (nullable = true)\n |    |    |    |-- type: string (nullable = true)\n |    |    |    |-- variants: array (nullable = true)\n |    |    |    |    |-- element: struct (containsNull = true)\n |    |    |    |    |    |-- bitrate: long (nullable = true)\n |    |    |    |    |    |-- contentType: string (nullable = true)\n |    |    |    |    |    |-- url: string (nullable = true)\n |    |-- mentionedUsers: array (nullable = true)\n |    |    |-- element: struct (containsNull = true)\n |    |    |    |-- created: string (nullable = true)\n |    |    |    |-- description: string (nullable = true)\n |    |    |    |-- descriptionUrls: string (nullable = true)\n |    |    |    |-- displayname: string (nullable = true)\n |    |    |    |-- favouritesCount: string (nullable = true)\n |    |    |    |-- followersCount: string (nullable = true)\n |    |    |    |-- friendsCount: string (nullable = true)\n |    |    |    |-- id: long (nullable = true)\n |    |    |    |-- linkTcourl: string (nullable = true)\n |    |    |    |-- linkUrl: string (nullable = true)\n |    |    |    |-- listedCount: string (nullable = true)\n |    |    |    |-- location: string (nullable = true)\n |    |    |    |-- mediaCount: string (nullable = true)\n |    |    |    |-- profileBannerUrl: string (nullable = true)\n |    |    |    |-- profileImageUrl: string (nullable = true)\n |    |    |    |-- protected: string (nullable = true)\n |    |    |    |-- rawDescription: string (nullable = true)\n |    |    |    |-- statusesCount: string (nullable = true)\n |    |    |    |-- url: string (nullable = true)\n |    |    |    |-- username: string (nullable = true)\n |    |    |    |-- verified: string (nullable = true)\n |    |-- outlinks: array (nullable = true)\n |    |    |-- element: string (containsNull = true)\n |    |-- quoteCount: long (nullable = true)\n |    |-- quotedTweet: struct (nullable = true)\n |    |    |-- content: string (nullable = true)\n |    |    |-- conversationId: long (nullable = true)\n |    |    |-- date: string (nullable = true)\n |    |    |-- id: long (nullable = true)\n |    |    |-- lang: string (nullable = true)\n |    |    |-- likeCount: long (nullable = true)\n |    |    |-- media: array (nullable = true)\n |    |    |    |-- element: struct (containsNull = true)\n |    |    |    |    |-- duration: double (nullable = true)\n |    |    |    |    |-- fullUrl: string (nullable = true)\n |    |    |    |    |-- previewUrl: string (nullable = true)\n |    |    |    |    |-- thumbnailUrl: string (nullable = true)\n |    |    |    |    |-- type: string (nullable = true)\n |    |    |    |    |-- variants: array (nullable = true)\n |    |    |    |    |    |-- element: struct (containsNull = true)\n |    |    |    |    |    |    |-- bitrate: long (nullable = true)\n |    |    |    |    |    |    |-- contentType: string (nullable = true)\n |    |    |    |    |    |    |-- url: string (nullable = true)\n |    |    |-- mentionedUsers: array (nullable = true)\n |    |    |    |-- element: struct (containsNull = true)\n |    |    |    |    |-- created: string (nullable = true)\n |    |    |    |    |-- description: string (nullable = true)\n |    |    |    |    |-- descriptionUrls: string (nullable = true)\n |    |    |    |    |-- displayname: string (nullable = true)\n |    |    |    |    |-- favouritesCount: string (nullable = true)\n |    |    |    |    |-- followersCount: string (nullable = true)\n |    |    |    |    |-- friendsCount: string (nullable = true)\n |    |    |    |    |-- id: long (nullable = true)\n |    |    |    |    |-- linkTcourl: string (nullable = true)\n |    |    |    |    |-- linkUrl: string (nullable = true)\n |    |    |    |    |-- listedCount: string (nullable = true)\n |    |    |    |    |-- location: string (nullable = true)\n |    |    |    |    |-- mediaCount: string (nullable = true)\n |    |    |    |    |-- profileBannerUrl: string (nullable = true)\n |    |    |    |    |-- profileImageUrl: string (nullable = true)\n |    |    |    |    |-- protected: string (nullable = true)\n |    |    |    |    |-- rawDescription: string (nullable = true)\n |    |    |    |    |-- statusesCount: string (nullable = true)\n |    |    |    |    |-- url: string (nullable = true)\n |    |    |    |    |-- username: string (nullable = true)\n |    |    |    |    |-- verified: string (nullable = true)\n |    |    |-- outlinks: array (nullable = true)\n |    |    |    |-- element: string (containsNull = true)\n |    |    |-- quoteCount: long (nullable = true)\n |    |    |-- quotedTweet: struct (nullable = true)\n |    |    |    |-- content: string (nullable = true)\n |    |    |    |-- conversationId: long (nullable = true)\n |    |    |    |-- date: string (nullable = true)\n |    |    |    |-- id: long (nullable = true)\n |    |    |    |-- lang: string (nullable = true)\n |    |    |    |-- likeCount: long (nullable = true)\n |    |    |    |-- media: array (nullable = true)\n |    |    |    |    |-- element: struct (containsNull = true)\n |    |    |    |    |    |-- duration: double (nullable = true)\n |    |    |    |    |    |-- fullUrl: string (nullable = true)\n |    |    |    |    |    |-- previewUrl: string (nullable = true)\n |    |    |    |    |    |-- thumbnailUrl: string (nullable = true)\n |    |    |    |    |    |-- type: string (nullable = true)\n |    |    |    |    |    |-- variants: array (nullable = true)\n |    |    |    |    |    |    |-- element: struct (containsNull = true)\n |    |    |    |    |    |    |    |-- bitrate: long (nullable = true)\n |    |    |    |    |    |    |    |-- contentType: string (nullable = true)\n |    |    |    |    |    |    |    |-- url: string (nullable = true)\n |    |    |    |-- mentionedUsers: array (nullable = true)\n |    |    |    |    |-- element: struct (containsNull = true)\n |    |    |    |    |    |-- created: string (nullable = true)\n |    |    |    |    |    |-- description: string (nullable = true)\n |    |    |    |    |    |-- descriptionUrls: string (nullable = true)\n |    |    |    |    |    |-- displayname: string (nullable = true)\n |    |    |    |    |    |-- favouritesCount: string (nullable = true)\n |    |    |    |    |    |-- followersCount: string (nullable = true)\n |    |    |    |    |    |-- friendsCount: string (nullable = true)\n |    |    |    |    |    |-- id: long (nullable = true)\n |    |    |    |    |    |-- linkTcourl: string (nullable = true)\n |    |    |    |    |    |-- linkUrl: string (nullable = true)\n |    |    |    |    |    |-- listedCount: string (nullable = true)\n |    |    |    |    |    |-- location: string (nullable = true)\n |    |    |    |    |    |-- mediaCount: string (nullable = true)\n |    |    |    |    |    |-- profileBannerUrl: string (nullable = true)\n |    |    |    |    |    |-- profileImageUrl: string (nullable = true)\n |    |    |    |    |    |-- protected: string (nullable = true)\n |    |    |    |    |    |-- rawDescription: string (nullable = true)\n |    |    |    |    |    |-- statusesCount: string (nullable = true)\n |    |    |    |    |    |-- url: string (nullable = true)\n |    |    |    |    |    |-- username: string (nullable = true)\n |    |    |    |    |    |-- verified: string (nullable = true)\n |    |    |    |-- outlinks: array (nullable = true)\n |    |    |    |    |-- element: string (containsNull = true)\n |    |    |    |-- quoteCount: long (nullable = true)\n |    |    |    |-- quotedTweet: string (nullable = true)\n |    |    |    |-- renderedContent: string (nullable = true)\n |    |    |    |-- replyCount: long (nullable = true)\n |    |    |    |-- retweetCount: long (nullable = true)\n |    |    |    |-- retweetedTweet: string (nullable = true)\n |    |    |    |-- source: string (nullable = true)\n |    |    |    |-- sourceLabel: string (nullable = true)\n |    |    |    |-- sourceUrl: string (nullable = true)\n |    |    |    |-- tcooutlinks: array (nullable = true)\n |    |    |    |    |-- element: string (containsNull = true)\n |    |    |    |-- url: string (nullable = true)\n |    |    |    |-- user: struct (nullable = true)\n |    |    |    |    |-- created: string (nullable = true)\n |    |    |    |    |-- description: string (nullable = true)\n |    |    |    |    |-- descriptionUrls: array (nullable = true)\n |    |    |    |    |    |-- element: string (containsNull = true)\n |    |    |    |    |-- displayname: string (nullable = true)\n |    |    |    |    |-- favouritesCount: long (nullable = true)\n |    |    |    |    |-- followersCount: long (nullable = true)\n |    |    |    |    |-- friendsCount: long (nullable = true)\n |    |    |    |    |-- id: long (nullable = true)\n |    |    |    |    |-- linkTcourl: string (nullable = true)\n |    |    |    |    |-- linkUrl: string (nullable = true)\n |    |    |    |    |-- listedCount: long (nullable = true)\n |    |    |    |    |-- location: string (nullable = true)\n |    |    |    |    |-- mediaCount: long (nullable = true)\n |    |    |    |    |-- profileBannerUrl: string (nullable = true)\n |    |    |    |    |-- profileImageUrl: string (nullable = true)\n |    |    |    |    |-- protected: boolean (nullable = true)\n |    |    |    |    |-- rawDescription: string (nullable = true)\n |    |    |    |    |-- statusesCount: long (nullable = true)\n |    |    |    |    |-- url: string (nullable = true)\n |    |    |    |    |-- username: string (nullable = true)\n |    |    |    |    |-- verified: boolean (nullable = true)\n |    |    |-- renderedContent: string (nullable = true)\n |    |    |-- replyCount: long (nullable = true)\n |    |    |-- retweetCount: long (nullable = true)\n |    |    |-- retweetedTweet: string (nullable = true)\n |    |    |-- source: string (nullable = true)\n |    |    |-- sourceLabel: string (nullable = true)\n |    |    |-- sourceUrl: string (nullable = true)\n |    |    |-- tcooutlinks: array (nullable = true)\n |    |    |    |-- element: string (containsNull = true)\n |    |    |-- url: string (nullable = true)\n |    |    |-- user: struct (nullable = true)\n |    |    |    |-- created: string (nullable = true)\n |    |    |    |-- description: string (nullable = true)\n |    |    |    |-- descriptionUrls: array (nullable = true)\n |    |    |    |    |-- element: struct (containsNull = true)\n |    |    |    |    |    |-- indices: array (nullable = true)\n |    |    |    |    |    |    |-- element: long (containsNull = true)\n |    |    |    |    |    |-- tcourl: string (nullable = true)\n |    |    |    |    |    |-- text: string (nullable = true)\n |    |    |    |    |    |-- url: string (nullable = true)\n |    |    |    |-- displayname: string (nullable = true)\n |    |    |    |-- favouritesCount: long (nullable = true)\n |    |    |    |-- followersCount: long (nullable = true)\n |    |    |    |-- friendsCount: long (nullable = true)\n |    |    |    |-- id: long (nullable = true)\n |    |    |    |-- linkTcourl: string (nullable = true)\n |    |    |    |-- linkUrl: string (nullable = true)\n |    |    |    |-- listedCount: long (nullable = true)\n |    |    |    |-- location: string (nullable = true)\n |    |    |    |-- mediaCount: long (nullable = true)\n |    |    |    |-- profileBannerUrl: string (nullable = true)\n |    |    |    |-- profileImageUrl: string (nullable = true)\n |    |    |    |-- protected: boolean (nullable = true)\n |    |    |    |-- rawDescription: string (nullable = true)\n |    |    |    |-- statusesCount: long (nullable = true)\n |    |    |    |-- url: string (nullable = true)\n |    |    |    |-- username: string (nullable = true)\n |    |    |    |-- verified: boolean (nullable = true)\n |    |-- renderedContent: string (nullable = true)\n |    |-- replyCount: long (nullable = true)\n |    |-- retweetCount: long (nullable = true)\n |    |-- retweetedTweet: string (nullable = true)\n |    |-- source: string (nullable = true)\n |    |-- sourceLabel: string (nullable = true)\n |    |-- sourceUrl: string (nullable = true)\n |    |-- tcooutlinks: array (nullable = true)\n |    |    |-- element: string (containsNull = true)\n |    |-- url: string (nullable = true)\n |    |-- user: struct (nullable = true)\n |    |    |-- created: string (nullable = true)\n |    |    |-- description: string (nullable = true)\n |    |    |-- descriptionUrls: array (nullable = true)\n |    |    |    |-- element: struct (containsNull = true)\n |    |    |    |    |-- indices: array (nullable = true)\n |    |    |    |    |    |-- element: long (containsNull = true)\n |    |    |    |    |-- tcourl: string (nullable = true)\n |    |    |    |    |-- text: string (nullable = true)\n |    |    |    |    |-- url: string (nullable = true)\n |    |    |-- displayname: string (nullable = true)\n |    |    |-- favouritesCount: long (nullable = true)\n |    |    |-- followersCount: long (nullable = true)\n |    |    |-- friendsCount: long (nullable = true)\n |    |    |-- id: long (nullable = true)\n |    |    |-- linkTcourl: string (nullable = true)\n |    |    |-- linkUrl: string (nullable = true)\n |    |    |-- listedCount: long (nullable = true)\n |    |    |-- location: string (nullable = true)\n |    |    |-- mediaCount: long (nullable = true)\n |    |    |-- profileBannerUrl: string (nullable = true)\n |    |    |-- profileImageUrl: string (nullable = true)\n |    |    |-- protected: boolean (nullable = true)\n |    |    |-- rawDescription: string (nullable = true)\n |    |    |-- statusesCount: long (nullable = true)\n |    |    |-- url: string (nullable = true)\n |    |    |-- username: string (nullable = true)\n |    |    |-- verified: boolean (nullable = true)\n |-- renderedContent: string (nullable = true)\n |-- replyCount: long (nullable = true)\n |-- retweetCount: long (nullable = true)\n |-- retweetedTweet: string (nullable = true)\n |-- source: string (nullable = true)\n |-- sourceLabel: string (nullable = true)\n |-- sourceUrl: string (nullable = true)\n |-- tcooutlinks: array (nullable = true)\n |    |-- element: string (containsNull = true)\n |-- url: string (nullable = true)\n |-- user: struct (nullable = true)\n |    |-- created: string (nullable = true)\n |    |-- description: string (nullable = true)\n |    |-- descriptionUrls: array (nullable = true)\n |    |    |-- element: struct (containsNull = true)\n |    |    |    |-- indices: array (nullable = true)\n |    |    |    |    |-- element: long (containsNull = true)\n |    |    |    |-- tcourl: string (nullable = true)\n |    |    |    |-- text: string (nullable = true)\n |    |    |    |-- url: string (nullable = true)\n |    |-- displayname: string (nullable = true)\n |    |-- favouritesCount: long (nullable = true)\n |    |-- followersCount: long (nullable = true)\n |    |-- friendsCount: long (nullable = true)\n |    |-- id: long (nullable = true)\n |    |-- linkTcourl: string (nullable = true)\n |    |-- linkUrl: string (nullable = true)\n |    |-- listedCount: long (nullable = true)\n |    |-- location: string (nullable = true)\n |    |-- mediaCount: long (nullable = true)\n |    |-- profileBannerUrl: string (nullable = true)\n |    |-- profileImageUrl: string (nullable = true)\n |    |-- protected: boolean (nullable = true)\n |    |-- rawDescription: string (nullable = true)\n |    |-- statusesCount: long (nullable = true)\n |    |-- url: string (nullable = true)\n |    |-- username: string (nullable = true)\n |    |-- verified: boolean (nullable = true)\n\n"
     ]
    }
   ],
   "source": [
    "#Mostramos el esquema de metadatos\n",
    "dfTweets.printSchema()"
   ]
  },
  {
   "cell_type": "code",
   "execution_count": 0,
   "metadata": {
    "application/vnd.databricks.v1+cell": {
     "cellMetadata": {
      "byteLimit": 2048000,
      "rowLimit": 10000
     },
     "inputWidgets": {},
     "nuid": "929fb59f-b618-4280-85d3-362d196117f7",
     "showTitle": false,
     "title": ""
    }
   },
   "outputs": [
    {
     "output_type": "stream",
     "name": "stdout",
     "output_type": "stream",
     "text": [
      "+----------+---------------+\n|date      |username       |\n+----------+---------------+\n|2021-02-24|ArjunSinghPanam|\n|2021-02-24|PrdeepNain     |\n|2021-02-24|parmarmaninder |\n|2021-02-24|anmoldhaliwal  |\n|2021-02-24|KotiaPreet     |\n|2021-02-24|babli_708      |\n|2021-02-24|Varinde17354019|\n|2021-02-24|BitnamSingh    |\n|2021-02-24|anmoldhaliwal  |\n|2021-02-24|SatThiara      |\n|2021-02-24|PasumaiVikatan |\n|2021-02-24|anmoldhaliwal  |\n|2021-02-24|ShariaActivist |\n|2021-02-24|babli_708      |\n|2021-02-24|Dallehal       |\n|2021-02-24|KaurAma57668156|\n|2021-02-24|KaurDosanjh1979|\n|2021-02-24|ArjunSinghPanam|\n|2021-02-24|anmoldhaliwal  |\n|2021-02-24|BitnamSingh    |\n+----------+---------------+\nonly showing top 20 rows\n\n"
     ]
    }
   ],
   "source": [
    "#Selecciono los campos necesarios\n",
    "dfTweetsColumns = dfTweets.select(\n",
    "  f.date_format(dfTweets[\"date\"], \"yyyy-MM-dd\").alias(\"date\"),\n",
    "  dfTweets[\"user.username\"]\n",
    ")\n",
    "\n",
    "#Mostrar data\n",
    "dfTweetsColumns.show(20, False)"
   ]
  },
  {
   "cell_type": "code",
   "execution_count": 0,
   "metadata": {
    "application/vnd.databricks.v1+cell": {
     "cellMetadata": {
      "byteLimit": 2048000,
      "rowLimit": 10000
     },
     "inputWidgets": {},
     "nuid": "13dbc190-044c-452d-84b0-4d502cb8d322",
     "showTitle": false,
     "title": ""
    }
   },
   "outputs": [
    {
     "output_type": "stream",
     "name": "stdout",
     "output_type": "stream",
     "text": [
      "root\n |-- date: string (nullable = true)\n |-- username: string (nullable = true)\n\n"
     ]
    }
   ],
   "source": [
    "dfTweetsColumns.printSchema()"
   ]
  },
  {
   "cell_type": "code",
   "execution_count": 0,
   "metadata": {
    "application/vnd.databricks.v1+cell": {
     "cellMetadata": {
      "byteLimit": 2048000,
      "rowLimit": 10000
     },
     "inputWidgets": {},
     "nuid": "430a5853-7f6a-4f89-ae9a-b06462739261",
     "showTitle": false,
     "title": ""
    }
   },
   "outputs": [],
   "source": [
    "# Agrupar por fecha y contar el número de tweets por fecha\n",
    "dfTweetsQuantityDateUser = dfTweetsColumns.groupBy(\"date\",\"username\").agg(f.count(\"*\").alias(\"TweetsQuantity\"))"
   ]
  },
  {
   "cell_type": "code",
   "execution_count": 0,
   "metadata": {
    "application/vnd.databricks.v1+cell": {
     "cellMetadata": {
      "byteLimit": 2048000,
      "rowLimit": 10000
     },
     "inputWidgets": {},
     "nuid": "f67eca27-e8fc-4413-ad9f-554719853558",
     "showTitle": false,
     "title": ""
    }
   },
   "outputs": [
    {
     "output_type": "stream",
     "name": "stdout",
     "output_type": "stream",
     "text": [
      "+----------+---------------+--------------+\n|      date|       username|TweetsQuantity|\n+----------+---------------+--------------+\n|2021-02-24|     ksgoraya23|             3|\n|2021-02-24|HarteerathSingh|             1|\n|2021-02-24| rajbir_chattha|             1|\n|2021-02-24|     aman_82011|             3|\n|2021-02-24|   LovableHindu|             1|\n|2021-02-24|Navdeepchauhan0|             1|\n|2021-02-23|     shergil190|             5|\n|2021-02-23|     royermattw|             1|\n|2021-02-23|   PrasadHastag|             1|\n|2021-02-23|       aartic02|             1|\n|2021-02-23|MohitYa00062314|             3|\n|2021-02-23|      arise_ias|             1|\n|2021-02-23|   _jaggicheema|             7|\n|2021-02-23|BhanuSi65771227|             1|\n|2021-02-23|Rupinde78638612|             1|\n|2021-02-23|      GGrewal87|             1|\n|2021-02-23|Preetdh41842533|             2|\n|2021-02-23|Ranjodh72739297|             1|\n|2021-02-23|MangalS93055765|             1|\n|2021-02-23| ramanjitsandhu|             1|\n+----------+---------------+--------------+\nonly showing top 20 rows\n\n"
     ]
    }
   ],
   "source": [
    "dfTweetsQuantityDateUser.show()"
   ]
  },
  {
   "cell_type": "code",
   "execution_count": 0,
   "metadata": {
    "application/vnd.databricks.v1+cell": {
     "cellMetadata": {
      "byteLimit": 2048000,
      "rowLimit": 10000
     },
     "inputWidgets": {},
     "nuid": "2dfcf541-475b-48bf-b283-47b5b7e7f1fd",
     "showTitle": false,
     "title": ""
    }
   },
   "outputs": [],
   "source": [
    "# Encontrar las 10 primeras fechas donde se dieron más ventas\n",
    "dfTop10Dates = dfTweetsQuantityDateUser.groupBy(\"date\").agg(f.sum(\"TweetsQuantity\").alias(\"TweetsQuantity\")).orderBy(f.col(\"TweetsQuantity\").desc()).limit(10)"
   ]
  },
  {
   "cell_type": "code",
   "execution_count": 0,
   "metadata": {
    "application/vnd.databricks.v1+cell": {
     "cellMetadata": {
      "byteLimit": 2048000,
      "rowLimit": 10000
     },
     "inputWidgets": {},
     "nuid": "a19a67ca-f275-4db9-b8d1-d1a58e25ec26",
     "showTitle": false,
     "title": ""
    }
   },
   "outputs": [
    {
     "output_type": "stream",
     "name": "stdout",
     "output_type": "stream",
     "text": [
      "+----------+--------------+\n|      date|TweetsQuantity|\n+----------+--------------+\n|2021-02-12|         12347|\n|2021-02-13|         11296|\n|2021-02-17|         11087|\n|2021-02-16|         10443|\n|2021-02-14|         10249|\n|2021-02-18|          9625|\n|2021-02-15|          9197|\n|2021-02-20|          8502|\n|2021-02-23|          8417|\n|2021-02-19|          8204|\n+----------+--------------+\n\n"
     ]
    }
   ],
   "source": [
    "dfTop10Dates.show()"
   ]
  },
  {
   "cell_type": "code",
   "execution_count": 0,
   "metadata": {
    "application/vnd.databricks.v1+cell": {
     "cellMetadata": {
      "byteLimit": 2048000,
      "rowLimit": 10000
     },
     "inputWidgets": {},
     "nuid": "1ff2a050-20e4-4723-b71e-e21b2bf3d3bc",
     "showTitle": false,
     "title": ""
    }
   },
   "outputs": [],
   "source": [
    "dfTweetsTop10DateUser = dfTop10Dates.join(\n",
    "    dfTweetsQuantityDateUser,\n",
    "    dfTop10Dates[\"date\"] == dfTweetsQuantityDateUser[\"date\"],\n",
    "    \"inner\"\n",
    ").groupBy(dfTop10Dates[\"date\"]).agg(\n",
    "    f.first(\"username\").alias(\"username\"),  \n",
    "    f.max(dfTweetsQuantityDateUser[\"TweetsQuantity\"]).alias(\"TweetsQuantity\")\n",
    ")"
   ]
  },
  {
   "cell_type": "code",
   "execution_count": 0,
   "metadata": {
    "application/vnd.databricks.v1+cell": {
     "cellMetadata": {
      "byteLimit": 2048000,
      "rowLimit": 10000
     },
     "inputWidgets": {},
     "nuid": "be3b5b01-387a-4178-a1f8-04a32697c194",
     "showTitle": false,
     "title": ""
    }
   },
   "outputs": [
    {
     "output_type": "stream",
     "name": "stdout",
     "output_type": "stream",
     "text": [
      "+----------+---------------+--------------+\n|      date|       username|TweetsQuantity|\n+----------+---------------+--------------+\n|2021-02-12|  Hardhaliwal99|           176|\n|2021-02-13|     saltlamp11|           178|\n|2021-02-14|     yashu_1717|           119|\n|2021-02-15|    manpreetj13|           134|\n|2021-02-16|      jdhillonA|           133|\n|2021-02-17|       bot_shiv|           185|\n|2021-02-18|   Nick13947057|           195|\n|2021-02-19|chouhan_jasmeet|           267|\n|2021-02-20|     AJ92097171|           108|\n|2021-02-23|     shergil190|           135|\n+----------+---------------+--------------+\n\n"
     ]
    }
   ],
   "source": [
    "dfTweetsTop10DateUser.show()"
   ]
  },
  {
   "cell_type": "code",
   "execution_count": 0,
   "metadata": {
    "application/vnd.databricks.v1+cell": {
     "cellMetadata": {},
     "inputWidgets": {},
     "nuid": "3d202b0b-c62b-4823-aa35-dd2fffd877e8",
     "showTitle": false,
     "title": ""
    }
   },
   "outputs": [],
   "source": [
    "###########################################################################################################\n",
    "###########################################################################################################\n",
    "###########################################################################################################\n",
    "###########################################################################################################\n",
    "###########################################################################################################\n",
    "###########################################################################################################\n",
    "###########################################################################################################\n",
    "###########################################################################################################\n",
    "###########################################################################################################\n",
    "###########################################################################################################\n",
    "###########################################################################################################\n",
    "###########################################################################################################"
   ]
  },
  {
   "cell_type": "code",
   "execution_count": 0,
   "metadata": {
    "application/vnd.databricks.v1+cell": {
     "cellMetadata": {
      "byteLimit": 2048000,
      "rowLimit": 10000
     },
     "inputWidgets": {},
     "nuid": "6eb31b5e-c8ce-4c4d-8a0e-31731de4e895",
     "showTitle": false,
     "title": ""
    }
   },
   "outputs": [],
   "source": [
    "from typing import List, Tuple\n",
    "from datetime import datetime\n",
    "import pyspark.sql.functions as f\n",
    "\n",
    "def q1_time(file_path: str) -> List[Tuple[datetime.date, str]]:\n",
    "    \n",
    "    # Lectura de archivo JSON\n",
    "    dfTweets = spark.read.format(\"json\").option(\"multiLine\", False).load(file_path)\n",
    "\n",
    "    # Selecciono los campos necesarios, para el ejercicio 1, solo necesitamos date y username\n",
    "    dfTweetsColumns = dfTweets.select(\n",
    "        f.to_date(dfTweets[\"date\"]).alias(\"date\"),\n",
    "        dfTweets[\"user.username\"].alias(\"username\")\n",
    "    )\n",
    "\n",
    "    # Contar el Numero de Tweets, agrupando fecha y usuario\n",
    "    dfTweetsQuantityDateUser = dfTweetsColumns.groupBy(\"date\", \"username\").agg(f.count(\"*\").alias(\"TweetsQuantity\"))\n",
    "\n",
    "    # Top 10 de las fechas donde se tiene mas tweets\n",
    "    dfTop10Dates = dfTweetsQuantityDateUser.groupBy(\"date\").agg(f.sum(\"TweetsQuantity\").alias(\"TweetsQuantity\")).orderBy(f.col(\"TweetsQuantity\").desc()).limit(10)\n",
    "\n",
    "    # Unimos el top 10 de las fechas con el usuario que realizó mas tweets dentro de esas fechas.\n",
    "    dfTweetsTop10DateUser = dfTop10Dates.join(\n",
    "        dfTweetsQuantityDateUser,\n",
    "        dfTop10Dates[\"date\"] == dfTweetsQuantityDateUser[\"date\"],\n",
    "        \"inner\"\n",
    "    ).groupBy(dfTop10Dates[\"date\"]).agg(\n",
    "        f.first(\"username\").alias(\"username\"),\n",
    "        f.max(dfTweetsQuantityDateUser[\"TweetsQuantity\"]).alias(\"TweetsQuantity\")\n",
    "    )\n",
    "\n",
    "    # Recolectamos los resultados y los devolvemos como una lista de tuplas\n",
    "    result = [(row[\"date\"], row[\"username\"]) for row in dfTweetsTop10DateUser.collect()]\n",
    "   \n",
    "\n",
    "    return result"
   ]
  },
  {
   "cell_type": "code",
   "execution_count": 0,
   "metadata": {
    "application/vnd.databricks.v1+cell": {
     "cellMetadata": {
      "byteLimit": 2048000,
      "rowLimit": 10000
     },
     "inputWidgets": {},
     "nuid": "1bec6f0c-ef44-4004-a718-e8103d0b4d61",
     "showTitle": false,
     "title": ""
    }
   },
   "outputs": [],
   "source": [
    "file_path = \"dbfs:///FileStore/_latam/farmers_protest_tweets_2021_2_4.json\""
   ]
  },
  {
   "cell_type": "code",
   "execution_count": 0,
   "metadata": {
    "application/vnd.databricks.v1+cell": {
     "cellMetadata": {
      "byteLimit": 2048000,
      "rowLimit": 10000
     },
     "inputWidgets": {},
     "nuid": "d1eaf6d2-7acd-473a-907a-9c22a417250e",
     "showTitle": false,
     "title": ""
    }
   },
   "outputs": [
    {
     "output_type": "stream",
     "name": "stdout",
     "output_type": "stream",
     "text": [
      "[(datetime.date(2021, 2, 12), 'loyal90901246'), (datetime.date(2021, 2, 13), 'Surjeet26238794'), (datetime.date(2021, 2, 14), 'gargiprasad'), (datetime.date(2021, 2, 15), 'mohit_1904'), (datetime.date(2021, 2, 16), 'oneworl02477933'), (datetime.date(2021, 2, 17), 'SinghisKing908'), (datetime.date(2021, 2, 18), 'the_jethwani'), (datetime.date(2021, 2, 19), 'subeeron'), (datetime.date(2021, 2, 20), 'RSandhu2017'), (datetime.date(2021, 2, 23), 'TechieKisaan')]\n"
     ]
    }
   ],
   "source": [
    "result = q1_time(file_path)\n",
    "print(result)"
   ]
  },
  {
   "cell_type": "code",
   "execution_count": 0,
   "metadata": {
    "application/vnd.databricks.v1+cell": {
     "cellMetadata": {},
     "inputWidgets": {},
     "nuid": "920e4d3a-bd4d-4948-b7c4-c1661b55813e",
     "showTitle": false,
     "title": ""
    }
   },
   "outputs": [],
   "source": [
    "######################"
   ]
  },
  {
   "cell_type": "code",
   "execution_count": 0,
   "metadata": {
    "application/vnd.databricks.v1+cell": {
     "cellMetadata": {
      "byteLimit": 2048000,
      "rowLimit": 10000
     },
     "inputWidgets": {},
     "nuid": "71f89e0f-38d6-45a1-aa05-450e1e704671",
     "showTitle": false,
     "title": ""
    }
   },
   "outputs": [],
   "source": [
    "from typing import List, Tuple\n",
    "from datetime import datetime\n",
    "import pyspark.sql.functions as f\n",
    "\n",
    "def q1_memory(file_path: str) -> List[Tuple[datetime.date, str]]:\n",
    "    \n",
    "    # Lectura de archivo JSON\n",
    "    dfTweets = spark.read.format(\"json\").option(\"multiLine\", False).load(file_path)\n",
    "\n",
    "    # Selecciono los campos necesarios, para el ejercicio 1, solo necesitamos date y username\n",
    "    dfTweetsColumns = dfTweets.select(\n",
    "        f.to_date(dfTweets[\"date\"]).alias(\"date\"),\n",
    "        dfTweets[\"user.username\"].alias(\"username\")\n",
    "    )\n",
    "\n",
    "    # Contar el Numero de Tweets, agrupando fecha y usuario\n",
    "    dfTweetsQuantityDateUser = dfTweetsColumns.groupBy(\"date\", \"username\").agg(f.count(\"*\").alias(\"TweetsQuantity\"))\n",
    "\n",
    "    # Top 10 de las fechas donde se tiene mas tweets\n",
    "    dfTop10Dates = dfTweetsQuantityDateUser.groupBy(\"date\").agg(f.sum(\"TweetsQuantity\").alias(\"TweetsQuantity\")).orderBy(f.col(\"TweetsQuantity\").desc()).limit(10)\n",
    "\n",
    "    # Unimos el top 10 de las fechas con el usuario que realizó mas tweets dentro de esas fechas.\n",
    "    dfTweetsTop10DateUser = dfTop10Dates.join(\n",
    "        dfTweetsQuantityDateUser,\n",
    "        dfTop10Dates[\"date\"] == dfTweetsQuantityDateUser[\"date\"],\n",
    "        \"inner\"\n",
    "    ).groupBy(dfTop10Dates[\"date\"]).agg(\n",
    "        f.first(\"username\").alias(\"username\"),\n",
    "        f.max(dfTweetsQuantityDateUser[\"TweetsQuantity\"]).alias(\"TweetsQuantity\")\n",
    "    )\n",
    "\n",
    "    # Recolectamos los resultados y los devolvemos como una lista de tuplas\n",
    "    result = [(row[\"date\"], row[\"username\"]) for row in dfTweetsTop10DateUser.toLocalIterator()]\n",
    "   \n",
    "\n",
    "    return result"
   ]
  },
  {
   "cell_type": "code",
   "execution_count": 0,
   "metadata": {
    "application/vnd.databricks.v1+cell": {
     "cellMetadata": {
      "byteLimit": 2048000,
      "rowLimit": 10000
     },
     "inputWidgets": {},
     "nuid": "a8a8f08c-61a4-4ab4-bc6d-78ce9194ada1",
     "showTitle": false,
     "title": ""
    }
   },
   "outputs": [
    {
     "output_type": "stream",
     "name": "stdout",
     "output_type": "stream",
     "text": [
      "[(datetime.date(2021, 2, 12), 'loyal90901246'), (datetime.date(2021, 2, 13), 'Surjeet26238794'), (datetime.date(2021, 2, 14), 'gargiprasad'), (datetime.date(2021, 2, 15), 'mohit_1904'), (datetime.date(2021, 2, 16), 'oneworl02477933'), (datetime.date(2021, 2, 17), 'SinghisKing908'), (datetime.date(2021, 2, 18), 'the_jethwani'), (datetime.date(2021, 2, 19), 'subeeron'), (datetime.date(2021, 2, 20), 'RSandhu2017'), (datetime.date(2021, 2, 23), 'TechieKisaan')]\n"
     ]
    }
   ],
   "source": [
    "result = q1_memory(file_path)\n",
    "print(result)\n",
    "\n"
   ]
  }
 ],
 "metadata": {
  "application/vnd.databricks.v1+notebook": {
   "dashboards": [],
   "language": "python",
   "notebookMetadata": {
    "pythonIndentUnit": 4
   },
   "notebookName": "Challenge_Latam_DE_1",
   "widgets": {}
  }
 },
 "nbformat": 4,
 "nbformat_minor": 0
}
