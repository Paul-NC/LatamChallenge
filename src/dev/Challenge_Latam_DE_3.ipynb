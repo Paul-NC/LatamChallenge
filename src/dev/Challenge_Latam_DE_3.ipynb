{
 "cells": [
  {
   "cell_type": "code",
   "execution_count": 0,
   "metadata": {
    "application/vnd.databricks.v1+cell": {
     "cellMetadata": {
      "byteLimit": 2048000,
      "rowLimit": 10000
     },
     "inputWidgets": {},
     "nuid": "d7e306ce-c22f-4ba9-89b0-54001150c762",
     "showTitle": false,
     "title": ""
    }
   },
   "outputs": [],
   "source": [
    "import re\n",
    "from pyspark.sql.types import ArrayType, StringType\n",
    "import pyspark.sql.functions as f\n",
    "from pyspark.sql.functions import explode, desc"
   ]
  },
  {
   "cell_type": "code",
   "execution_count": 0,
   "metadata": {
    "application/vnd.databricks.v1+cell": {
     "cellMetadata": {
      "byteLimit": 2048000,
      "rowLimit": 10000
     },
     "inputWidgets": {},
     "nuid": "96f461b3-7d59-4d96-9bef-78367cea1a58",
     "showTitle": false,
     "title": ""
    }
   },
   "outputs": [],
   "source": [
    "#Lectura de archivo JSON\n",
    "dfTweets = spark.read.format(\"json\").option(\"multiLine\", False).load(\"dbfs:///FileStore/_latam/farmers_protest_tweets_2021_2_4.json\")"
   ]
  },
  {
   "cell_type": "code",
   "execution_count": 0,
   "metadata": {
    "application/vnd.databricks.v1+cell": {
     "cellMetadata": {
      "byteLimit": 2048000,
      "rowLimit": 10000
     },
     "inputWidgets": {},
     "nuid": "bd1637b8-21c9-4f63-b220-9fcb643e2cf8",
     "showTitle": false,
     "title": ""
    }
   },
   "outputs": [],
   "source": [
    "# Explodimos el campo de contenido para obtener los emojis\n",
    "dfTweets_MentionUser = dfTweets.select(\n",
    "                dfTweets[\"content\"].alias(\"Tweet\"),\n",
    "               )"
   ]
  },
  {
   "cell_type": "code",
   "execution_count": 0,
   "metadata": {
    "application/vnd.databricks.v1+cell": {
     "cellMetadata": {
      "byteLimit": 2048000,
      "rowLimit": 10000
     },
     "inputWidgets": {},
     "nuid": "fb49bfa6-a08e-4e09-ab94-a01ebf31c93e",
     "showTitle": false,
     "title": ""
    }
   },
   "outputs": [],
   "source": [
    "# Función para extraer todas las menciones de usuario de un texto\n",
    "def extract_user_mentions(text):\n",
    "    # Patrón de expresión regular para encontrar todas las menciones de usuario\n",
    "    mention_pattern = r'@(\\w+)'\n",
    "    return re.findall(mention_pattern, text)\n",
    "\n",
    "# Registrar la función UDF\n",
    "extract_user_mentions_udf = udf(extract_user_mentions, ArrayType(StringType()))\n",
    "\n",
    "# Aplicar la función UDF a la columna \"content\" para extraer todas las menciones de usuario\n",
    "df_with_all_mentions = dfTweets_MentionUser.withColumn(\"all_mentions\", extract_user_mentions_udf(f.col(\"Tweet\")))\n"
   ]
  },
  {
   "cell_type": "code",
   "execution_count": 0,
   "metadata": {
    "application/vnd.databricks.v1+cell": {
     "cellMetadata": {
      "byteLimit": 2048000,
      "rowLimit": 10000
     },
     "collapsed": true,
     "inputWidgets": {},
     "nuid": "8ccfeca1-be50-424a-a01c-82822ad46a5e",
     "showTitle": false,
     "title": ""
    }
   },
   "outputs": [
    {
     "output_type": "stream",
     "name": "stdout",
     "output_type": "stream",
     "text": [
      "+--------------------------------------------------------------------------------------------------------------------------------------------------------------------------------------------------------------------------------------------------------------------------------------------------------------------+---------------------------+\n|Tweet                                                                                                                                                                                                                                                                                                               |all_mentions               |\n+--------------------------------------------------------------------------------------------------------------------------------------------------------------------------------------------------------------------------------------------------------------------------------------------------------------------+---------------------------+\n|The world progresses while the Indian police and Govt are still trying to take India back to the horrific past through its tyranny. \\n\\n@narendramodi @DelhiPolice Shame on you. \\n\\n#ModiDontSellFarmers \\n#FarmersProtest \\n#FreeNodeepKaur https://t.co/es3kn0IQAF                                               |[narendramodi, DelhiPolice]|\n|#FarmersProtest \\n#ModiIgnoringFarmersDeaths \\n#ModiDontSellFarmers \\n@Kisanektamorcha \\nFarmers constantly distroying crops throughout India. \\nReally, it's hearts breaking...we care about our crops like our children. And govt. agriculture minister is laughing on us🚜🌾WE WILL WIN💪 https://t.co/kLspngG9xE|[Kisanektamorcha]          |\n|ਪੈਟਰੋਲ ਦੀਆਂ ਕੀਮਤਾਂ ਨੂੰ ਮੱਦੇਨਜ਼ਰ ਰੱਖਦੇ ਹੋਏ \\nਮੇਰੇ ਹਿਸਾਬ ਨਾਲ ਬਾਹਰ(ਪ੍ਰਦੇਸ਼) ਜਾਣ ਨਾਲੋਂ ਬਿਹਤਰ ਆ ਭਾਰਤ 'ਚ ਪੈਟਰੋਲ ਪੰਪ ਪਾ ਲਈਏ। 🤫🤫🤔🤔\\n#FarmersProtest                                                                                                                                                                     |[]                         |\n|@ReallySwara @rohini_sgh watch full video here https://t.co/wBPNdJdB0n\\n#farmersprotest #NoFarmersNoFood https://t.co/fUsTOKOcXK                                                                                                                                                                                    |[ReallySwara, rohini_sgh]  |\n|#KisanEktaMorcha #FarmersProtest #NoFarmersNoFood https://t.co/g9TYYBHQRH                                                                                                                                                                                                                                           |[]                         |\n|Jai jwaan jai kissan #FarmersProtest #ModiIgnoringFarmersDeaths https://t.co/LXi7d92wwf                                                                                                                                                                                                                             |[]                         |\n|#FarmersProtest                                                                                                                                                                                                                                                                                                     |[]                         |\n|#ModiDontSellFarmers\\n#FarmersProtest https://t.co/uGQb1O5Jg9                                                                                                                                                                                                                                                       |[]                         |\n|@mandeeppunia1 watch full video here https://t.co/wBPNdJdB0n\\n#farmersprotest #NoFarmersNoFood https://t.co/71iMqEc6aK                                                                                                                                                                                              |[mandeeppunia1]            |\n|#FarmersProtest https://t.co/ehd5FBSZGx                                                                                                                                                                                                                                                                             |[]                         |\n|கோதுமைப் பயிர்களை அழித்து விவசாயிகள் போராட்டம்..!\\n\\n#WheatField #FarmersProtest https://t.co/YxSvdpRPgg                                                                                                                                                                                                            |[]                         |\n|@mandeeppunia1 watch full video here https://t.co/wBPNdJdB0n\\n#farmersprotest #NoFarmersNoFood https://t.co/NFMJeQRTJ2                                                                                                                                                                                              |[mandeeppunia1]            |\n|Another farmer, Malkeet Singh from Mahilpur, Hoshiarpur has passed away at the Delhi protest site. #FarmersProtest https://t.co/UyY4J3NKzg                                                                                                                                                                          |[]                         |\n|Jai kissan #FarmersProtest  #ModiDontSellFarmers https://t.co/udqwW1NO0g                                                                                                                                                                                                                                            |[]                         |\n|#FarmersProtest https://t.co/iiGHGzKFcX                                                                                                                                                                                                                                                                             |[]                         |\n|ਸਰਕਾਰੇ ਨੀ ਤੇਰੇ ਕੰਮ ਨਿਕੰਮੇ\\nਫੇਰ ਆਖੇਗੀ ਪੁੱਤ ਬਾਗ਼ੀ ਜੰਮੇ\\n#FarmersProtest\\n#ModiDontSellFarmers https://t.co/arKLO9qIMK                                                                                                                                                                                                 |[]                         |\n|@akshaykumar Hi can you tell your boss #ModiDontSellFarmers thanks #FarmersProtest                                                                                                                                                                                                                                  |[akshaykumar]              |\n|#ModiDontSellFarmers \\n#farmersprotest https://t.co/rBlqRpnixj                                                                                                                                                                                                                                                      |[]                         |\n|@taapsee watch full video #farmersprotest #NoFarmersNoFood \\nhttps://t.co/wBPNdJdB0n https://t.co/Ijtzk3Hv9C                                                                                                                                                                                                        |[taapsee]                  |\n|#FarmersProtest https://t.co/8OeC86VPfB                                                                                                                                                                                                                                                                             |[]                         |\n+--------------------------------------------------------------------------------------------------------------------------------------------------------------------------------------------------------------------------------------------------------------------------------------------------------------------+---------------------------+\nonly showing top 20 rows\n\n"
     ]
    }
   ],
   "source": [
    "df_with_all_mentions.show(20,False)"
   ]
  },
  {
   "cell_type": "code",
   "execution_count": 0,
   "metadata": {
    "application/vnd.databricks.v1+cell": {
     "cellMetadata": {
      "byteLimit": 2048000,
      "rowLimit": 10000
     },
     "inputWidgets": {},
     "nuid": "8784a84f-db11-4494-8780-98705ccea79b",
     "showTitle": false,
     "title": ""
    }
   },
   "outputs": [],
   "source": [
    "# Explode para convertir la lista de emojis en filas individuales\n",
    "dfExploded = df_with_all_mentions.select(f.explode(df_with_all_mentions[\"all_mentions\"]).alias(\"username\"))"
   ]
  },
  {
   "cell_type": "code",
   "execution_count": 0,
   "metadata": {
    "application/vnd.databricks.v1+cell": {
     "cellMetadata": {
      "byteLimit": 2048000,
      "rowLimit": 10000
     },
     "inputWidgets": {},
     "nuid": "88d4d679-5a4d-4b3a-b6f4-e1a165b9de1a",
     "showTitle": false,
     "title": ""
    }
   },
   "outputs": [],
   "source": [
    "# Contar las menciones de username, se muestra el top 10 de los usuarios\n",
    "dfMentionCount = dfExploded.groupBy(\"username\").agg(f.count(\"*\").alias(\"MentionQuantity\")).orderBy(f.col(\"MentionQuantity\").desc()).limit(10)"
   ]
  },
  {
   "cell_type": "code",
   "execution_count": 0,
   "metadata": {
    "application/vnd.databricks.v1+cell": {
     "cellMetadata": {
      "byteLimit": 2048000,
      "rowLimit": 10000
     },
     "inputWidgets": {},
     "nuid": "83bcbe7e-a5c8-4a23-90a9-0735006a40d0",
     "showTitle": false,
     "title": ""
    }
   },
   "outputs": [
    {
     "output_type": "stream",
     "name": "stdout",
     "output_type": "stream",
     "text": [
      "+---------------+---------------+\n|       username|MentionQuantity|\n+---------------+---------------+\n|   narendramodi|           2261|\n|Kisanektamorcha|           1836|\n|RakeshTikaitBKU|           1639|\n|       PMOIndia|           1422|\n|    RahulGandhi|           1125|\n|  GretaThunberg|           1046|\n|    RaviSinghKA|           1015|\n|        rihanna|            972|\n|  UNHumanRights|            962|\n|    meenaharris|            925|\n+---------------+---------------+\n\n"
     ]
    }
   ],
   "source": [
    "dfMentionCount.show()"
   ]
  },
  {
   "cell_type": "code",
   "execution_count": 0,
   "metadata": {
    "application/vnd.databricks.v1+cell": {
     "cellMetadata": {},
     "inputWidgets": {},
     "nuid": "d415c244-081d-43a5-9ea2-3d64d62ec0dd",
     "showTitle": false,
     "title": ""
    }
   },
   "outputs": [],
   "source": [
    "########################################################################################################\n",
    "########################################################################################################\n",
    "########################################################################################################\n",
    "########################################################################################################\n",
    "########################################################################################################"
   ]
  },
  {
   "cell_type": "code",
   "execution_count": 0,
   "metadata": {
    "application/vnd.databricks.v1+cell": {
     "cellMetadata": {
      "byteLimit": 2048000,
      "rowLimit": 10000
     },
     "inputWidgets": {},
     "nuid": "7aa2bd50-4ef5-4c3e-80f7-61b5d32b7963",
     "showTitle": false,
     "title": ""
    }
   },
   "outputs": [],
   "source": [
    "from typing import List, Tuple\n",
    "from pyspark.sql.types import ArrayType, StringType\n",
    "import pyspark.sql.functions as f\n",
    "import re"
   ]
  },
  {
   "cell_type": "code",
   "execution_count": 0,
   "metadata": {
    "application/vnd.databricks.v1+cell": {
     "cellMetadata": {
      "byteLimit": 2048000,
      "rowLimit": 10000
     },
     "inputWidgets": {},
     "nuid": "154d0228-47f9-4096-9493-0b9e5ee718a5",
     "showTitle": false,
     "title": ""
    }
   },
   "outputs": [],
   "source": [
    "# Función para extraer todas las menciones de usuario de un texto\n",
    "def extract_user_mentions(text):\n",
    "    # Patrón de expresión regular para encontrar todas las menciones de usuario\n",
    "    mention_pattern = r'@(\\w+)'\n",
    "    return re.findall(mention_pattern, text)\n",
    "\n",
    "# Registrar la función UDF\n",
    "extract_user_mentions_udf = udf(extract_user_mentions, ArrayType(StringType()))"
   ]
  },
  {
   "cell_type": "code",
   "execution_count": 0,
   "metadata": {
    "application/vnd.databricks.v1+cell": {
     "cellMetadata": {
      "byteLimit": 2048000,
      "rowLimit": 10000
     },
     "inputWidgets": {},
     "nuid": "77230909-a52a-4fc4-8e71-a4b7365b5217",
     "showTitle": false,
     "title": ""
    }
   },
   "outputs": [],
   "source": [
    "def q3_time(file_path: str) -> List[Tuple[str, int]]:\n",
    "    \n",
    "    # Lectura de archivo JSON\n",
    "    dfTweets = spark.read.format(\"json\").option(\"multiLine\", False).load(file_path)\n",
    "\n",
    "    # Explodimos el campo de contenido para obtener los emojis\n",
    "    dfTweets_MentionUser = dfTweets.select(\n",
    "                dfTweets[\"content\"].alias(\"Tweet\"),\n",
    "               )\n",
    "    \n",
    "    # Aplicar la función UDF a la columna \"content\" para extraer todas las menciones de usuario\n",
    "    df_with_all_mentions = dfTweets_MentionUser.withColumn(\"all_mentions\", extract_user_mentions_udf(f.col(\"Tweet\")))\n",
    "\n",
    "    # Explode para convertir la lista de emojis en filas individuales\n",
    "    dfExploded = df_with_all_mentions.select(f.explode(df_with_all_mentions[\"all_mentions\"]).alias(\"username\"))\n",
    "\n",
    "    # Contar las menciones de username, se muestra el top 10 de los usuarios\n",
    "    dfMentionCount = dfExploded.groupBy(\"username\").agg(f.count(\"*\").alias(\"MentionQuantity\")).orderBy(f.col(\"MentionQuantity\").desc()).limit(10)\n",
    "\n",
    "    # Recolectamos los resultados y los devolvemos como una lista de tuplas\n",
    "    result = [(row[\"username\"], row[\"MentionQuantity\"]) for row in dfMentionCount.collect()]\n",
    "   \n",
    "    return result"
   ]
  },
  {
   "cell_type": "code",
   "execution_count": 0,
   "metadata": {
    "application/vnd.databricks.v1+cell": {
     "cellMetadata": {
      "byteLimit": 2048000,
      "rowLimit": 10000
     },
     "inputWidgets": {},
     "nuid": "01752c26-7e73-4636-9e7c-3d55dd47554d",
     "showTitle": false,
     "title": ""
    }
   },
   "outputs": [],
   "source": [
    "file_path = \"dbfs:///FileStore/_latam/farmers_protest_tweets_2021_2_4.json\""
   ]
  },
  {
   "cell_type": "code",
   "execution_count": 0,
   "metadata": {
    "application/vnd.databricks.v1+cell": {
     "cellMetadata": {
      "byteLimit": 2048000,
      "rowLimit": 10000
     },
     "inputWidgets": {},
     "nuid": "4c083711-3983-4b5d-9534-5d0bd16d22de",
     "showTitle": false,
     "title": ""
    }
   },
   "outputs": [
    {
     "output_type": "stream",
     "name": "stdout",
     "output_type": "stream",
     "text": [
      "[('narendramodi', 2261), ('Kisanektamorcha', 1836), ('RakeshTikaitBKU', 1639), ('PMOIndia', 1422), ('RahulGandhi', 1125), ('GretaThunberg', 1046), ('RaviSinghKA', 1015), ('rihanna', 972), ('UNHumanRights', 962), ('meenaharris', 925)]\n"
     ]
    }
   ],
   "source": [
    "result = q3_time(file_path)\n",
    "print(result)"
   ]
  },
  {
   "cell_type": "code",
   "execution_count": 0,
   "metadata": {
    "application/vnd.databricks.v1+cell": {
     "cellMetadata": {
      "byteLimit": 2048000,
      "rowLimit": 10000
     },
     "inputWidgets": {},
     "nuid": "80602bd4-3c8d-4b8c-97ee-0a776f743137",
     "showTitle": false,
     "title": ""
    }
   },
   "outputs": [],
   "source": [
    "def q3_memory(file_path: str) -> List[Tuple[str, int]]:\n",
    "    \n",
    "    # Lectura de archivo JSON\n",
    "    dfTweets = spark.read.format(\"json\").option(\"multiLine\", False).load(file_path)\n",
    "\n",
    "    # Explodimos el campo de contenido para obtener los emojis\n",
    "    dfTweets_MentionUser = dfTweets.select(\n",
    "                dfTweets[\"content\"].alias(\"Tweet\"),\n",
    "               )\n",
    "    \n",
    "    # Aplicar la función UDF a la columna \"content\" para extraer todas las menciones de usuario\n",
    "    df_with_all_mentions = dfTweets_MentionUser.withColumn(\"all_mentions\", extract_user_mentions_udf(f.col(\"Tweet\")))\n",
    "\n",
    "    # Explode para convertir la lista de emojis en filas individuales\n",
    "    dfExploded = df_with_all_mentions.select(f.explode(df_with_all_mentions[\"all_mentions\"]).alias(\"username\"))\n",
    "\n",
    "    # Contar las menciones de username, se muestra el top 10 de los usuarios\n",
    "    dfMentionCount = dfExploded.groupBy(\"username\").agg(f.count(\"*\").alias(\"MentionQuantity\")).orderBy(f.col(\"MentionQuantity\").desc()).limit(10)\n",
    "\n",
    "    # Recolectamos los resultados y los devolvemos como una lista de tuplas\n",
    "    result = [(row[\"username\"], row[\"MentionQuantity\"]) for row in dfMentionCount.toLocalIterator()]\n",
    "   \n",
    "    return result"
   ]
  },
  {
   "cell_type": "code",
   "execution_count": 0,
   "metadata": {
    "application/vnd.databricks.v1+cell": {
     "cellMetadata": {
      "byteLimit": 2048000,
      "rowLimit": 10000
     },
     "inputWidgets": {},
     "nuid": "fe9dbc8c-6958-4547-b4a5-9c6d8370ccff",
     "showTitle": false,
     "title": ""
    }
   },
   "outputs": [
    {
     "output_type": "stream",
     "name": "stdout",
     "output_type": "stream",
     "text": [
      "[('narendramodi', 2261), ('Kisanektamorcha', 1836), ('RakeshTikaitBKU', 1639), ('PMOIndia', 1422), ('RahulGandhi', 1125), ('GretaThunberg', 1046), ('RaviSinghKA', 1015), ('rihanna', 972), ('UNHumanRights', 962), ('meenaharris', 925)]\n"
     ]
    }
   ],
   "source": [
    "result = q3_memory(file_path)\n",
    "print(result)"
   ]
  }
 ],
 "metadata": {
  "application/vnd.databricks.v1+notebook": {
   "dashboards": [],
   "language": "python",
   "notebookMetadata": {
    "pythonIndentUnit": 4
   },
   "notebookName": "Challenge_Latam_DE_3",
   "widgets": {}
  }
 },
 "nbformat": 4,
 "nbformat_minor": 0
}
