{
 "cells": [
  {
   "cell_type": "code",
   "execution_count": 0,
   "metadata": {
    "application/vnd.databricks.v1+cell": {
     "cellMetadata": {
      "byteLimit": 2048000,
      "rowLimit": 10000
     },
     "inputWidgets": {},
     "nuid": "33d59d48-3718-417b-9d6c-eadb390dc517",
     "showTitle": false,
     "title": ""
    }
   },
   "outputs": [
    {
     "output_type": "stream",
     "name": "stdout",
     "output_type": "stream",
     "text": [
      "Python interpreter will be restarted.\nCollecting emoji\n  Downloading emoji-2.10.1-py2.py3-none-any.whl (421 kB)\nInstalling collected packages: emoji\nSuccessfully installed emoji-2.10.1\nPython interpreter will be restarted.\n"
     ]
    }
   ],
   "source": [
    "pip install emoji"
   ]
  },
  {
   "cell_type": "code",
   "execution_count": 0,
   "metadata": {
    "application/vnd.databricks.v1+cell": {
     "cellMetadata": {
      "byteLimit": 2048000,
      "rowLimit": 10000
     },
     "inputWidgets": {},
     "nuid": "cf25b764-b0b4-424b-bb3c-6483d76afc16",
     "showTitle": false,
     "title": ""
    }
   },
   "outputs": [],
   "source": [
    "from pyspark.sql.types import ArrayType, StringType\n",
    "import pyspark.sql.functions as f\n",
    "import emoji\n",
    "import re"
   ]
  },
  {
   "cell_type": "code",
   "execution_count": 0,
   "metadata": {
    "application/vnd.databricks.v1+cell": {
     "cellMetadata": {
      "byteLimit": 2048000,
      "rowLimit": 10000
     },
     "inputWidgets": {},
     "nuid": "9c6014a1-ff96-4cf2-89ec-33544343b812",
     "showTitle": false,
     "title": ""
    }
   },
   "outputs": [],
   "source": [
    "#Lectura de archivo JSON\n",
    "dfTweets = spark.read.format(\"json\").option(\"multiLine\", False).load(\"dbfs:///FileStore/_latam/farmers_protest_tweets_2021_2_4.json\")"
   ]
  },
  {
   "cell_type": "code",
   "execution_count": 0,
   "metadata": {
    "application/vnd.databricks.v1+cell": {
     "cellMetadata": {
      "byteLimit": 2048000,
      "rowLimit": 10000
     },
     "inputWidgets": {},
     "nuid": "d79fe5f7-96da-42d2-9ab7-43b027d8763b",
     "showTitle": false,
     "title": ""
    }
   },
   "outputs": [],
   "source": [
    "# Campos content tiene el contenido del tweet y los emojis\n",
    "dfTweetEmoji = dfTweets.select(\n",
    "                dfTweets[\"content\"].alias(\"TweetEmoji\"),\n",
    "               )"
   ]
  },
  {
   "cell_type": "code",
   "execution_count": 0,
   "metadata": {
    "application/vnd.databricks.v1+cell": {
     "cellMetadata": {
      "byteLimit": 2048000,
      "rowLimit": 10000
     },
     "inputWidgets": {},
     "nuid": "4fafed2a-cdfc-4787-970a-ed756e87fc6a",
     "showTitle": false,
     "title": ""
    }
   },
   "outputs": [],
   "source": [
    "# Definir una función UDF para extraer los emojis de un texto\n",
    "def extract_emojis(text):\n",
    "    return re.findall(r'(:[^:\\s]+:)', emoji.demojize(text))\n",
    "\n",
    "# Convertir la función en un UDF de PySpark\n",
    "extract_emojis_udf = udf(extract_emojis, ArrayType(StringType()))"
   ]
  },
  {
   "cell_type": "code",
   "execution_count": 0,
   "metadata": {
    "application/vnd.databricks.v1+cell": {
     "cellMetadata": {
      "byteLimit": 2048000,
      "rowLimit": 10000
     },
     "inputWidgets": {},
     "nuid": "b4d03cc8-e243-4ee1-a064-013fafade513",
     "showTitle": false,
     "title": ""
    }
   },
   "outputs": [],
   "source": [
    "\n",
    "# Aplicar el UDF a la columna \"Emojitext\"\n",
    "dfTweetEmojiText = dfTweetEmoji.withColumn(\"EmojiText\", extract_emojis_udf(dfTweetEmoji[\"TweetEmoji\"]))\n"
   ]
  },
  {
   "cell_type": "code",
   "execution_count": 0,
   "metadata": {
    "application/vnd.databricks.v1+cell": {
     "cellMetadata": {
      "byteLimit": 2048000,
      "rowLimit": 10000
     },
     "inputWidgets": {},
     "nuid": "56ab2f2b-8a14-4441-9a27-27373e200f35",
     "showTitle": false,
     "title": ""
    }
   },
   "outputs": [],
   "source": [
    "# Explode para convertir la lista de emojis en filas individuales\n",
    "dfTweetEmojiExplode = dfTweetEmojiText.select(f.explode(dfTweetEmojiText[\"EmojiText\"]).alias(\"Emoji\"))"
   ]
  },
  {
   "cell_type": "code",
   "execution_count": 0,
   "metadata": {
    "application/vnd.databricks.v1+cell": {
     "cellMetadata": {
      "byteLimit": 2048000,
      "rowLimit": 10000
     },
     "inputWidgets": {},
     "nuid": "a765f429-24e9-4212-b634-94c522341ace",
     "showTitle": false,
     "title": ""
    }
   },
   "outputs": [],
   "source": [
    "# Contar la frecuencia de cada emoji, y obtenemos los 10 primeros\n",
    "dfTweetEmojiQuantity = dfTweetEmojiExplode.groupBy(\"Emoji\").agg(f.count(\"*\").alias(\"EmojiQuantity\")).orderBy(f.col(\"EmojiQuantity\").desc()).limit(10)"
   ]
  },
  {
   "cell_type": "code",
   "execution_count": 0,
   "metadata": {
    "application/vnd.databricks.v1+cell": {
     "cellMetadata": {
      "byteLimit": 2048000,
      "rowLimit": 10000
     },
     "inputWidgets": {},
     "nuid": "6ed0986d-9af0-467d-822e-7471c7290208",
     "showTitle": false,
     "title": ""
    }
   },
   "outputs": [],
   "source": [
    "# Definir una función UDF para convertir los códigos de emoji a emojis visuales\n",
    "def visualize_emoji(emoji_code):\n",
    "    return emoji.emojize(emoji_code)\n",
    "\n",
    "# Registrar la función UDF\n",
    "visualize_emoji_udf = udf(visualize_emoji, StringType())"
   ]
  },
  {
   "cell_type": "code",
   "execution_count": 0,
   "metadata": {
    "application/vnd.databricks.v1+cell": {
     "cellMetadata": {
      "byteLimit": 2048000,
      "rowLimit": 10000
     },
     "inputWidgets": {},
     "nuid": "5e54e4c5-1e69-4875-a459-bbce6edb48e8",
     "showTitle": false,
     "title": ""
    }
   },
   "outputs": [],
   "source": [
    "# Aplicar la función UDF a la columna \"Emoji\" para obtener los emojis visuales\n",
    "dfTweetEmojiResult = dfTweetEmojiQuantity.withColumn(\"VisualEmoji\", visualize_emoji_udf(f.col(\"Emoji\")))"
   ]
  },
  {
   "cell_type": "code",
   "execution_count": 0,
   "metadata": {
    "application/vnd.databricks.v1+cell": {
     "cellMetadata": {
      "byteLimit": 2048000,
      "rowLimit": 10000
     },
     "inputWidgets": {},
     "nuid": "ea7e84d5-fdd8-4b70-aa8f-479b719b568a",
     "showTitle": false,
     "title": ""
    }
   },
   "outputs": [
    {
     "output_type": "stream",
     "name": "stdout",
     "output_type": "stream",
     "text": [
      "+--------------------+-------------+-----------+\n|               Emoji|EmojiQuantity|VisualEmoji|\n+--------------------+-------------+-----------+\n|      :folded_hands:|         5049|         🙏|\n|:face_with_tears_...|         3072|         😂|\n|           :tractor:|         2972|         🚜|\n|     :sheaf_of_rice:|         2182|         🌾|\n|             :India:|         2086|       🇮🇳|\n|         :red_heart:|         1779|         ❤️|\n|:rolling_on_the_f...|         1668|         🤣|\n|       :raised_fist:|         1651|          ✊|\n|:folded_hands_lig...|         1317|       🙏🏻|\n|       :green_heart:|         1040|         💚|\n+--------------------+-------------+-----------+\n\n"
     ]
    }
   ],
   "source": [
    "dfTweetEmojiResult.show()"
   ]
  },
  {
   "cell_type": "code",
   "execution_count": 0,
   "metadata": {
    "application/vnd.databricks.v1+cell": {
     "cellMetadata": {},
     "inputWidgets": {},
     "nuid": "be369f3c-cde9-4c64-a39e-e7dedea0cb0f",
     "showTitle": false,
     "title": ""
    }
   },
   "outputs": [],
   "source": [
    "####################################################################################################\n",
    "####################################################################################################\n",
    "####################################################################################################\n",
    "####################################################################################################\n",
    "####################################################################################################\n",
    "####################################################################################################\n",
    "####################################################################################################"
   ]
  },
  {
   "cell_type": "code",
   "execution_count": 0,
   "metadata": {
    "application/vnd.databricks.v1+cell": {
     "cellMetadata": {},
     "inputWidgets": {},
     "nuid": "d7d3e7ed-774d-401b-919b-7736a2e33c5b",
     "showTitle": false,
     "title": ""
    }
   },
   "outputs": [],
   "source": [
    "# Definir una función UDF para extraer los emojis de un texto\n",
    "def extract_emojis(text):\n",
    "    return re.findall(r'(:[^:\\s]+:)', emoji.demojize(text))\n",
    "\n",
    "# Convertir la función en un UDF de PySpark\n",
    "extract_emojis_udf = udf(extract_emojis, ArrayType(StringType()))\n",
    "\n",
    "##########################################################################################\n",
    "\n",
    "# Definir una función UDF para convertir los códigos de emoji a emojis visuales\n",
    "def visualize_emoji(emoji_code):\n",
    "    return emoji.emojize(emoji_code)\n",
    "\n",
    "# Registrar la función UDF\n",
    "visualize_emoji_udf = udf(visualize_emoji, StringType())\n"
   ]
  },
  {
   "cell_type": "code",
   "execution_count": 0,
   "metadata": {
    "application/vnd.databricks.v1+cell": {
     "cellMetadata": {
      "byteLimit": 2048000,
      "rowLimit": 10000
     },
     "inputWidgets": {},
     "nuid": "5501d3b9-3a19-4955-8242-4d1546394d5e",
     "showTitle": false,
     "title": ""
    }
   },
   "outputs": [],
   "source": [
    "from typing import List, Tuple\n",
    "from datetime import datetime\n",
    "from pyspark.sql.types import ArrayType, StringType\n",
    "import pyspark.sql.functions as f\n",
    "import emoji\n",
    "import re\n",
    "\n",
    "def q2_time(file_path: str) -> List[Tuple[str, int]]:\n",
    "    \n",
    "    # Lectura de archivo JSON\n",
    "    dfTweets = spark.read.format(\"json\").option(\"multiLine\", False).load(file_path)\n",
    "\n",
    "    # Campos content tiene el contenido del tweet y los emojis\n",
    "    dfTweetEmoji = dfTweets.select(\n",
    "                dfTweets[\"content\"].alias(\"TweetEmoji\"),\n",
    "               )\n",
    "    \n",
    "    # Aplicar el UDF a la columna \"Emojitext\", para identificar los emojis dentro del tweet\n",
    "    dfTweetEmojiText = dfTweetEmoji.withColumn(\"EmojiText\", extract_emojis_udf(dfTweetEmoji[\"TweetEmoji\"]))\n",
    "\n",
    "    # Explode para convertir la lista de emojis en filas individuales\n",
    "    dfTweetEmojiExplode = dfTweetEmojiText.select(f.explode(dfTweetEmojiText[\"EmojiText\"]).alias(\"Emoji\"))\n",
    "\n",
    "    # Contar la frecuencia de cada emoji, y obtenemos los 10 primeros\n",
    "    dfTweetEmojiQuantity = dfTweetEmojiExplode.groupBy(\"Emoji\").agg(f.count(\"*\").alias(\"EmojiQuantity\")).orderBy(f.col(\"EmojiQuantity\").desc()).limit(10)\n",
    "\n",
    "    # Aplicar la función UDF a la columna \"Emoji\" para obtener los emojis visuales\n",
    "    dfTweetEmojiResult = dfTweetEmojiQuantity.withColumn(\"VisualEmoji\", visualize_emoji_udf(f.col(\"Emoji\")))\n",
    "\n",
    "    # Recolectamos los resultados y los devolvemos como una lista de tuplas\n",
    "    result = [(row[\"VisualEmoji\"], row[\"EmojiQuantity\"]) for row in dfTweetEmojiResult.collect()]\n",
    "   \n",
    "\n",
    "    return result"
   ]
  },
  {
   "cell_type": "code",
   "execution_count": 0,
   "metadata": {
    "application/vnd.databricks.v1+cell": {
     "cellMetadata": {
      "byteLimit": 2048000,
      "rowLimit": 10000
     },
     "inputWidgets": {},
     "nuid": "9f2ed952-234c-48da-b167-24870eaefe0e",
     "showTitle": false,
     "title": ""
    }
   },
   "outputs": [],
   "source": [
    "file_path = \"dbfs:///FileStore/_latam/farmers_protest_tweets_2021_2_4.json\""
   ]
  },
  {
   "cell_type": "code",
   "execution_count": 0,
   "metadata": {
    "application/vnd.databricks.v1+cell": {
     "cellMetadata": {
      "byteLimit": 2048000,
      "rowLimit": 10000
     },
     "inputWidgets": {},
     "nuid": "d53628c2-37a0-4813-92d7-34117036d13e",
     "showTitle": false,
     "title": ""
    }
   },
   "outputs": [
    {
     "output_type": "stream",
     "name": "stdout",
     "output_type": "stream",
     "text": [
      "[('🙏', 5049), ('😂', 3072), ('🚜', 2972), ('🌾', 2182), ('🇮🇳', 2086), ('❤️', 1779), ('🤣', 1668), ('✊', 1651), ('🙏🏻', 1317), ('💚', 1040)]\n"
     ]
    }
   ],
   "source": [
    "result = q2_time(file_path)\n",
    "print(result)"
   ]
  },
  {
   "cell_type": "code",
   "execution_count": 0,
   "metadata": {
    "application/vnd.databricks.v1+cell": {
     "cellMetadata": {
      "byteLimit": 2048000,
      "rowLimit": 10000
     },
     "inputWidgets": {},
     "nuid": "603de92b-d237-4c3a-b56e-3823fd5cca85",
     "showTitle": false,
     "title": ""
    }
   },
   "outputs": [],
   "source": [
    "from typing import List, Tuple\n",
    "from datetime import datetime\n",
    "from pyspark.sql.types import ArrayType, StringType\n",
    "import pyspark.sql.functions as f\n",
    "import emoji\n",
    "import re\n",
    "\n",
    "def q2_memory(file_path: str) -> List[Tuple[str, int]]:\n",
    "    \n",
    "    # Lectura de archivo JSON\n",
    "    dfTweets = spark.read.format(\"json\").option(\"multiLine\", False).load(file_path)\n",
    "\n",
    "    # Campos content tiene el contenido del tweet y los emojis\n",
    "    dfTweetEmoji = dfTweets.select(\n",
    "                dfTweets[\"content\"].alias(\"TweetEmoji\"),\n",
    "               )\n",
    "    \n",
    "    # Aplicar el UDF a la columna \"Emojitext\", para identificar los emojis dentro del tweet\n",
    "    dfTweetEmojiText = dfTweetEmoji.withColumn(\"EmojiText\", extract_emojis_udf(dfTweetEmoji[\"TweetEmoji\"]))\n",
    "\n",
    "    # Explode para convertir la lista de emojis en filas individuales\n",
    "    dfTweetEmojiExplode = dfTweetEmojiText.select(f.explode(dfTweetEmojiText[\"EmojiText\"]).alias(\"Emoji\"))\n",
    "\n",
    "    # Contar la frecuencia de cada emoji, y obtenemos los 10 primeros\n",
    "    dfTweetEmojiQuantity = dfTweetEmojiExplode.groupBy(\"Emoji\").agg(f.count(\"*\").alias(\"EmojiQuantity\")).orderBy(f.col(\"EmojiQuantity\").desc()).limit(10)\n",
    "\n",
    "    # Aplicar la función UDF a la columna \"Emoji\" para obtener los emojis visuales\n",
    "    dfTweetEmojiResult = dfTweetEmojiQuantity.withColumn(\"VisualEmoji\", visualize_emoji_udf(f.col(\"Emoji\")))\n",
    "\n",
    "    # Recolectamos los resultados y los devolvemos como una lista de tuplas\n",
    "    result = [(row[\"VisualEmoji\"], row[\"EmojiQuantity\"]) for row in dfTweetEmojiResult.toLocalIterator()]\n",
    "   \n",
    "\n",
    "    return result"
   ]
  },
  {
   "cell_type": "code",
   "execution_count": 0,
   "metadata": {
    "application/vnd.databricks.v1+cell": {
     "cellMetadata": {
      "byteLimit": 2048000,
      "rowLimit": 10000
     },
     "inputWidgets": {},
     "nuid": "7973cf08-b6fa-429b-a08c-6606ebc61c5f",
     "showTitle": false,
     "title": ""
    }
   },
   "outputs": [
    {
     "output_type": "stream",
     "name": "stdout",
     "output_type": "stream",
     "text": [
      "[('🙏', 5049), ('😂', 3072), ('🚜', 2972), ('🌾', 2182), ('🇮🇳', 2086), ('❤️', 1779), ('🤣', 1668), ('✊', 1651), ('🙏🏻', 1317), ('💚', 1040)]\n"
     ]
    }
   ],
   "source": [
    "result = q2_memory(file_path)\n",
    "print(result)"
   ]
  }
 ],
 "metadata": {
  "application/vnd.databricks.v1+notebook": {
   "dashboards": [],
   "language": "python",
   "notebookMetadata": {
    "pythonIndentUnit": 4
   },
   "notebookName": "Challenge_Latam_DE_2",
   "widgets": {}
  }
 },
 "nbformat": 4,
 "nbformat_minor": 0
}
